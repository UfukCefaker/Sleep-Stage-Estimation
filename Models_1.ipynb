{
 "cells": [
  {
   "cell_type": "code",
   "execution_count": 1,
   "metadata": {},
   "outputs": [],
   "source": [
    "import pandas as pd\n",
    "import numpy as np\n",
    "import subprocess\n",
    "import random\n",
    "import pipeline_script\n",
    "import seaborn as sns\n",
    "import math\n",
    "from tqdm import tqdm\n",
    "import re\n",
    "import matplotlib.pyplot as plt\n",
    "from numpy.random import RandomState\n",
    "from sklearn.preprocessing import MinMaxScaler\n",
    "import os"
   ]
  },
  {
   "cell_type": "markdown",
   "metadata": {},
   "source": [
    "Import Processed Participant DF"
   ]
  },
  {
   "cell_type": "code",
   "execution_count": 2,
   "metadata": {},
   "outputs": [
    {
     "data": {
      "text/html": [
       "<div>\n",
       "<style scoped>\n",
       "    .dataframe tbody tr th:only-of-type {\n",
       "        vertical-align: middle;\n",
       "    }\n",
       "\n",
       "    .dataframe tbody tr th {\n",
       "        vertical-align: top;\n",
       "    }\n",
       "\n",
       "    .dataframe thead th {\n",
       "        text-align: right;\n",
       "    }\n",
       "</style>\n",
       "<table border=\"1\" class=\"dataframe\">\n",
       "  <thead>\n",
       "    <tr style=\"text-align: right;\">\n",
       "      <th></th>\n",
       "      <th>AGE</th>\n",
       "      <th>GENDER</th>\n",
       "      <th>BMI</th>\n",
       "      <th>OAHI</th>\n",
       "      <th>AHI</th>\n",
       "      <th>Mean_SaO2</th>\n",
       "      <th>Arousal Index</th>\n",
       "      <th>MEDICAL_HISTORY</th>\n",
       "      <th>Sleep_Disorders</th>\n",
       "      <th>asthma</th>\n",
       "      <th>...</th>\n",
       "      <th>eds</th>\n",
       "      <th>rbd</th>\n",
       "      <th>hypersomnia</th>\n",
       "      <th>grind teeth</th>\n",
       "      <th>insomnia</th>\n",
       "      <th>fatigue</th>\n",
       "      <th>morning headaches</th>\n",
       "      <th>bruxism</th>\n",
       "      <th>snore</th>\n",
       "      <th>headache</th>\n",
       "    </tr>\n",
       "    <tr>\n",
       "      <th>SID</th>\n",
       "      <th></th>\n",
       "      <th></th>\n",
       "      <th></th>\n",
       "      <th></th>\n",
       "      <th></th>\n",
       "      <th></th>\n",
       "      <th></th>\n",
       "      <th></th>\n",
       "      <th></th>\n",
       "      <th></th>\n",
       "      <th></th>\n",
       "      <th></th>\n",
       "      <th></th>\n",
       "      <th></th>\n",
       "      <th></th>\n",
       "      <th></th>\n",
       "      <th></th>\n",
       "      <th></th>\n",
       "      <th></th>\n",
       "      <th></th>\n",
       "      <th></th>\n",
       "    </tr>\n",
       "  </thead>\n",
       "  <tbody>\n",
       "    <tr>\n",
       "      <th>S002</th>\n",
       "      <td>0.679909</td>\n",
       "      <td>1</td>\n",
       "      <td>0.166667</td>\n",
       "      <td>19</td>\n",
       "      <td>19</td>\n",
       "      <td>91%</td>\n",
       "      <td>98</td>\n",
       "      <td>Asthma, Body Pain, GERD, Hypertension, Sleep A...</td>\n",
       "      <td>OSA</td>\n",
       "      <td>0</td>\n",
       "      <td>...</td>\n",
       "      <td>0</td>\n",
       "      <td>0</td>\n",
       "      <td>0</td>\n",
       "      <td>0</td>\n",
       "      <td>0</td>\n",
       "      <td>0</td>\n",
       "      <td>0</td>\n",
       "      <td>0</td>\n",
       "      <td>0</td>\n",
       "      <td>0</td>\n",
       "    </tr>\n",
       "    <tr>\n",
       "      <th>S003</th>\n",
       "      <td>0.124049</td>\n",
       "      <td>0</td>\n",
       "      <td>0.611111</td>\n",
       "      <td>34</td>\n",
       "      <td>37</td>\n",
       "      <td>95%</td>\n",
       "      <td>28</td>\n",
       "      <td>NaN</td>\n",
       "      <td>snoring, sleep apnea, difficulty breathing, sn...</td>\n",
       "      <td>0</td>\n",
       "      <td>...</td>\n",
       "      <td>0</td>\n",
       "      <td>0</td>\n",
       "      <td>0</td>\n",
       "      <td>0</td>\n",
       "      <td>0</td>\n",
       "      <td>0</td>\n",
       "      <td>0</td>\n",
       "      <td>0</td>\n",
       "      <td>0</td>\n",
       "      <td>0</td>\n",
       "    </tr>\n",
       "    <tr>\n",
       "      <th>S004</th>\n",
       "      <td>0.524049</td>\n",
       "      <td>0</td>\n",
       "      <td>0.425926</td>\n",
       "      <td>63</td>\n",
       "      <td>99</td>\n",
       "      <td>89%</td>\n",
       "      <td>109</td>\n",
       "      <td>Arrhythmia, Body Pain, Depression, Dyspnea, GERD</td>\n",
       "      <td>difficulty breathing</td>\n",
       "      <td>0</td>\n",
       "      <td>...</td>\n",
       "      <td>0</td>\n",
       "      <td>0</td>\n",
       "      <td>0</td>\n",
       "      <td>0</td>\n",
       "      <td>0</td>\n",
       "      <td>0</td>\n",
       "      <td>0</td>\n",
       "      <td>0</td>\n",
       "      <td>0</td>\n",
       "      <td>0</td>\n",
       "    </tr>\n",
       "    <tr>\n",
       "      <th>S005</th>\n",
       "      <td>0.424505</td>\n",
       "      <td>0</td>\n",
       "      <td>0.462963</td>\n",
       "      <td>19</td>\n",
       "      <td>20</td>\n",
       "      <td>95%</td>\n",
       "      <td>28</td>\n",
       "      <td>Asthma, Body Pain, Depression, Diabetes, Dyspn...</td>\n",
       "      <td>OSA</td>\n",
       "      <td>0</td>\n",
       "      <td>...</td>\n",
       "      <td>0</td>\n",
       "      <td>0</td>\n",
       "      <td>0</td>\n",
       "      <td>0</td>\n",
       "      <td>0</td>\n",
       "      <td>0</td>\n",
       "      <td>0</td>\n",
       "      <td>0</td>\n",
       "      <td>0</td>\n",
       "      <td>0</td>\n",
       "    </tr>\n",
       "    <tr>\n",
       "      <th>S006</th>\n",
       "      <td>0.238661</td>\n",
       "      <td>0</td>\n",
       "      <td>0.074074</td>\n",
       "      <td>4</td>\n",
       "      <td>5</td>\n",
       "      <td>97%</td>\n",
       "      <td>34</td>\n",
       "      <td>Depression, Sleep Apnea</td>\n",
       "      <td>OSA</td>\n",
       "      <td>0</td>\n",
       "      <td>...</td>\n",
       "      <td>0</td>\n",
       "      <td>0</td>\n",
       "      <td>0</td>\n",
       "      <td>0</td>\n",
       "      <td>0</td>\n",
       "      <td>0</td>\n",
       "      <td>0</td>\n",
       "      <td>0</td>\n",
       "      <td>0</td>\n",
       "      <td>0</td>\n",
       "    </tr>\n",
       "  </tbody>\n",
       "</table>\n",
       "<p>5 rows × 37 columns</p>\n",
       "</div>"
      ],
      "text/plain": [
       "           AGE  GENDER       BMI  OAHI  AHI Mean_SaO2  Arousal Index  \\\n",
       "SID                                                                    \n",
       "S002  0.679909       1  0.166667    19   19       91%             98   \n",
       "S003  0.124049       0  0.611111    34   37       95%             28   \n",
       "S004  0.524049       0  0.425926    63   99       89%            109   \n",
       "S005  0.424505       0  0.462963    19   20       95%             28   \n",
       "S006  0.238661       0  0.074074     4    5       97%             34   \n",
       "\n",
       "                                        MEDICAL_HISTORY  \\\n",
       "SID                                                       \n",
       "S002  Asthma, Body Pain, GERD, Hypertension, Sleep A...   \n",
       "S003                                                NaN   \n",
       "S004   Arrhythmia, Body Pain, Depression, Dyspnea, GERD   \n",
       "S005  Asthma, Body Pain, Depression, Diabetes, Dyspn...   \n",
       "S006                            Depression, Sleep Apnea   \n",
       "\n",
       "                                        Sleep_Disorders  asthma  ...  eds  \\\n",
       "SID                                                              ...        \n",
       "S002                                                OSA       0  ...    0   \n",
       "S003  snoring, sleep apnea, difficulty breathing, sn...       0  ...    0   \n",
       "S004                               difficulty breathing       0  ...    0   \n",
       "S005                                                OSA       0  ...    0   \n",
       "S006                                                OSA       0  ...    0   \n",
       "\n",
       "      rbd  hypersomnia  grind teeth  insomnia  fatigue  morning headaches  \\\n",
       "SID                                                                         \n",
       "S002    0            0            0         0        0                  0   \n",
       "S003    0            0            0         0        0                  0   \n",
       "S004    0            0            0         0        0                  0   \n",
       "S005    0            0            0         0        0                  0   \n",
       "S006    0            0            0         0        0                  0   \n",
       "\n",
       "      bruxism  snore  headache  \n",
       "SID                             \n",
       "S002        0      0         0  \n",
       "S003        0      0         0  \n",
       "S004        0      0         0  \n",
       "S005        0      0         0  \n",
       "S006        0      0         0  \n",
       "\n",
       "[5 rows x 37 columns]"
      ]
     },
     "execution_count": 2,
     "metadata": {},
     "output_type": "execute_result"
    }
   ],
   "source": [
    "participant_df = pd.read_csv(\"participant_info_processed.csv\",index_col=\"SID\")\n",
    "participant_df[\"GENDER\"] = participant_df[\"GENDER\"].apply(lambda x: 1 if x == \"M\" else 0)\n",
    "participant_df.head()"
   ]
  },
  {
   "cell_type": "markdown",
   "metadata": {},
   "source": [
    "Import Processed Patient Records"
   ]
  },
  {
   "cell_type": "code",
   "execution_count": 3,
   "metadata": {},
   "outputs": [],
   "source": [
    "\n",
    "def extract_sxxx(filename):\n",
    "    # Define the pattern to match 'Sxxx' where x is a digit (1 to 3 digits)\n",
    "    pattern = r\"(S\\d{1,3})\"\n",
    "    match = re.search(pattern, filename)\n",
    "    if match:\n",
    "        return match.group(1)  # Return the matched string\n",
    "    return None  #\n",
    "\n",
    "def gather_dict(parent_folder,process = True):\n",
    "    csv_files = [file for file in os.listdir(parent_folder) if file.endswith(\".parquet\")]\n",
    "    patients_records={}\n",
    "    for patient in tqdm(csv_files):\n",
    "        patient_id = extract_sxxx(patient)\n",
    "        if not patient_id:\n",
    "            return\n",
    "        patients_records[patient_id] = pd.read_parquet(os.path.join(parent_folder, patient))\n",
    "\n",
    "    return patients_records"
   ]
  },
  {
   "cell_type": "code",
   "execution_count": 4,
   "metadata": {},
   "outputs": [
    {
     "name": "stderr",
     "output_type": "stream",
     "text": [
      " 58%|█████▊    | 57/98 [00:35<00:25,  1.60it/s]\n"
     ]
    },
    {
     "ename": "MemoryError",
     "evalue": "",
     "output_type": "error",
     "traceback": [
      "\u001b[1;31m---------------------------------------------------------------------------\u001b[0m",
      "\u001b[1;31mMemoryError\u001b[0m                               Traceback (most recent call last)",
      "Cell \u001b[1;32mIn[4], line 1\u001b[0m\n\u001b[1;32m----> 1\u001b[0m patient_records \u001b[38;5;241m=\u001b[39m \u001b[43mgather_dict\u001b[49m\u001b[43m(\u001b[49m\u001b[38;5;124;43m\"\u001b[39;49m\u001b[38;5;124;43mnormalized_data\u001b[39;49m\u001b[38;5;124;43m\"\u001b[39;49m\u001b[43m)\u001b[49m\n",
      "Cell \u001b[1;32mIn[3], line 16\u001b[0m, in \u001b[0;36mgather_dict\u001b[1;34m(parent_folder, process)\u001b[0m\n\u001b[0;32m     14\u001b[0m     \u001b[38;5;28;01mif\u001b[39;00m \u001b[38;5;129;01mnot\u001b[39;00m patient_id:\n\u001b[0;32m     15\u001b[0m         \u001b[38;5;28;01mreturn\u001b[39;00m\n\u001b[1;32m---> 16\u001b[0m     patients_records[patient_id] \u001b[38;5;241m=\u001b[39m \u001b[43mpd\u001b[49m\u001b[38;5;241;43m.\u001b[39;49m\u001b[43mread_parquet\u001b[49m\u001b[43m(\u001b[49m\u001b[43mos\u001b[49m\u001b[38;5;241;43m.\u001b[39;49m\u001b[43mpath\u001b[49m\u001b[38;5;241;43m.\u001b[39;49m\u001b[43mjoin\u001b[49m\u001b[43m(\u001b[49m\u001b[43mparent_folder\u001b[49m\u001b[43m,\u001b[49m\u001b[43m \u001b[49m\u001b[43mpatient\u001b[49m\u001b[43m)\u001b[49m\u001b[43m)\u001b[49m\n\u001b[0;32m     18\u001b[0m \u001b[38;5;28;01mreturn\u001b[39;00m patients_records\n",
      "File \u001b[1;32mc:\\Users\\alkan\\AppData\\Local\\Programs\\Python\\Python311\\Lib\\site-packages\\pandas\\io\\parquet.py:667\u001b[0m, in \u001b[0;36mread_parquet\u001b[1;34m(path, engine, columns, storage_options, use_nullable_dtypes, dtype_backend, filesystem, filters, **kwargs)\u001b[0m\n\u001b[0;32m    664\u001b[0m     use_nullable_dtypes \u001b[38;5;241m=\u001b[39m \u001b[38;5;28;01mFalse\u001b[39;00m\n\u001b[0;32m    665\u001b[0m check_dtype_backend(dtype_backend)\n\u001b[1;32m--> 667\u001b[0m \u001b[38;5;28;01mreturn\u001b[39;00m \u001b[43mimpl\u001b[49m\u001b[38;5;241;43m.\u001b[39;49m\u001b[43mread\u001b[49m\u001b[43m(\u001b[49m\n\u001b[0;32m    668\u001b[0m \u001b[43m    \u001b[49m\u001b[43mpath\u001b[49m\u001b[43m,\u001b[49m\n\u001b[0;32m    669\u001b[0m \u001b[43m    \u001b[49m\u001b[43mcolumns\u001b[49m\u001b[38;5;241;43m=\u001b[39;49m\u001b[43mcolumns\u001b[49m\u001b[43m,\u001b[49m\n\u001b[0;32m    670\u001b[0m \u001b[43m    \u001b[49m\u001b[43mfilters\u001b[49m\u001b[38;5;241;43m=\u001b[39;49m\u001b[43mfilters\u001b[49m\u001b[43m,\u001b[49m\n\u001b[0;32m    671\u001b[0m \u001b[43m    \u001b[49m\u001b[43mstorage_options\u001b[49m\u001b[38;5;241;43m=\u001b[39;49m\u001b[43mstorage_options\u001b[49m\u001b[43m,\u001b[49m\n\u001b[0;32m    672\u001b[0m \u001b[43m    \u001b[49m\u001b[43muse_nullable_dtypes\u001b[49m\u001b[38;5;241;43m=\u001b[39;49m\u001b[43muse_nullable_dtypes\u001b[49m\u001b[43m,\u001b[49m\n\u001b[0;32m    673\u001b[0m \u001b[43m    \u001b[49m\u001b[43mdtype_backend\u001b[49m\u001b[38;5;241;43m=\u001b[39;49m\u001b[43mdtype_backend\u001b[49m\u001b[43m,\u001b[49m\n\u001b[0;32m    674\u001b[0m \u001b[43m    \u001b[49m\u001b[43mfilesystem\u001b[49m\u001b[38;5;241;43m=\u001b[39;49m\u001b[43mfilesystem\u001b[49m\u001b[43m,\u001b[49m\n\u001b[0;32m    675\u001b[0m \u001b[43m    \u001b[49m\u001b[38;5;241;43m*\u001b[39;49m\u001b[38;5;241;43m*\u001b[39;49m\u001b[43mkwargs\u001b[49m\u001b[43m,\u001b[49m\n\u001b[0;32m    676\u001b[0m \u001b[43m\u001b[49m\u001b[43m)\u001b[49m\n",
      "File \u001b[1;32mc:\\Users\\alkan\\AppData\\Local\\Programs\\Python\\Python311\\Lib\\site-packages\\pandas\\io\\parquet.py:274\u001b[0m, in \u001b[0;36mPyArrowImpl.read\u001b[1;34m(self, path, columns, filters, use_nullable_dtypes, dtype_backend, storage_options, filesystem, **kwargs)\u001b[0m\n\u001b[0;32m    267\u001b[0m path_or_handle, handles, filesystem \u001b[38;5;241m=\u001b[39m _get_path_or_handle(\n\u001b[0;32m    268\u001b[0m     path,\n\u001b[0;32m    269\u001b[0m     filesystem,\n\u001b[0;32m    270\u001b[0m     storage_options\u001b[38;5;241m=\u001b[39mstorage_options,\n\u001b[0;32m    271\u001b[0m     mode\u001b[38;5;241m=\u001b[39m\u001b[38;5;124m\"\u001b[39m\u001b[38;5;124mrb\u001b[39m\u001b[38;5;124m\"\u001b[39m,\n\u001b[0;32m    272\u001b[0m )\n\u001b[0;32m    273\u001b[0m \u001b[38;5;28;01mtry\u001b[39;00m:\n\u001b[1;32m--> 274\u001b[0m     pa_table \u001b[38;5;241m=\u001b[39m \u001b[38;5;28;43mself\u001b[39;49m\u001b[38;5;241;43m.\u001b[39;49m\u001b[43mapi\u001b[49m\u001b[38;5;241;43m.\u001b[39;49m\u001b[43mparquet\u001b[49m\u001b[38;5;241;43m.\u001b[39;49m\u001b[43mread_table\u001b[49m\u001b[43m(\u001b[49m\n\u001b[0;32m    275\u001b[0m \u001b[43m        \u001b[49m\u001b[43mpath_or_handle\u001b[49m\u001b[43m,\u001b[49m\n\u001b[0;32m    276\u001b[0m \u001b[43m        \u001b[49m\u001b[43mcolumns\u001b[49m\u001b[38;5;241;43m=\u001b[39;49m\u001b[43mcolumns\u001b[49m\u001b[43m,\u001b[49m\n\u001b[0;32m    277\u001b[0m \u001b[43m        \u001b[49m\u001b[43mfilesystem\u001b[49m\u001b[38;5;241;43m=\u001b[39;49m\u001b[43mfilesystem\u001b[49m\u001b[43m,\u001b[49m\n\u001b[0;32m    278\u001b[0m \u001b[43m        \u001b[49m\u001b[43mfilters\u001b[49m\u001b[38;5;241;43m=\u001b[39;49m\u001b[43mfilters\u001b[49m\u001b[43m,\u001b[49m\n\u001b[0;32m    279\u001b[0m \u001b[43m        \u001b[49m\u001b[38;5;241;43m*\u001b[39;49m\u001b[38;5;241;43m*\u001b[39;49m\u001b[43mkwargs\u001b[49m\u001b[43m,\u001b[49m\n\u001b[0;32m    280\u001b[0m \u001b[43m    \u001b[49m\u001b[43m)\u001b[49m\n\u001b[0;32m    281\u001b[0m     result \u001b[38;5;241m=\u001b[39m pa_table\u001b[38;5;241m.\u001b[39mto_pandas(\u001b[38;5;241m*\u001b[39m\u001b[38;5;241m*\u001b[39mto_pandas_kwargs)\n\u001b[0;32m    283\u001b[0m     \u001b[38;5;28;01mif\u001b[39;00m manager \u001b[38;5;241m==\u001b[39m \u001b[38;5;124m\"\u001b[39m\u001b[38;5;124marray\u001b[39m\u001b[38;5;124m\"\u001b[39m:\n",
      "File \u001b[1;32mc:\\Users\\alkan\\AppData\\Local\\Programs\\Python\\Python311\\Lib\\site-packages\\pyarrow\\parquet\\core.py:1843\u001b[0m, in \u001b[0;36mread_table\u001b[1;34m(source, columns, use_threads, schema, use_pandas_metadata, read_dictionary, memory_map, buffer_size, partitioning, filesystem, filters, use_legacy_dataset, ignore_prefixes, pre_buffer, coerce_int96_timestamp_unit, decryption_properties, thrift_string_size_limit, thrift_container_size_limit, page_checksum_verification)\u001b[0m\n\u001b[0;32m   1831\u001b[0m     \u001b[38;5;66;03m# TODO test that source is not a directory or a list\u001b[39;00m\n\u001b[0;32m   1832\u001b[0m     dataset \u001b[38;5;241m=\u001b[39m ParquetFile(\n\u001b[0;32m   1833\u001b[0m         source, read_dictionary\u001b[38;5;241m=\u001b[39mread_dictionary,\n\u001b[0;32m   1834\u001b[0m         memory_map\u001b[38;5;241m=\u001b[39mmemory_map, buffer_size\u001b[38;5;241m=\u001b[39mbuffer_size,\n\u001b[1;32m   (...)\u001b[0m\n\u001b[0;32m   1840\u001b[0m         page_checksum_verification\u001b[38;5;241m=\u001b[39mpage_checksum_verification,\n\u001b[0;32m   1841\u001b[0m     )\n\u001b[1;32m-> 1843\u001b[0m \u001b[38;5;28;01mreturn\u001b[39;00m \u001b[43mdataset\u001b[49m\u001b[38;5;241;43m.\u001b[39;49m\u001b[43mread\u001b[49m\u001b[43m(\u001b[49m\u001b[43mcolumns\u001b[49m\u001b[38;5;241;43m=\u001b[39;49m\u001b[43mcolumns\u001b[49m\u001b[43m,\u001b[49m\u001b[43m \u001b[49m\u001b[43muse_threads\u001b[49m\u001b[38;5;241;43m=\u001b[39;49m\u001b[43muse_threads\u001b[49m\u001b[43m,\u001b[49m\n\u001b[0;32m   1844\u001b[0m \u001b[43m                    \u001b[49m\u001b[43muse_pandas_metadata\u001b[49m\u001b[38;5;241;43m=\u001b[39;49m\u001b[43muse_pandas_metadata\u001b[49m\u001b[43m)\u001b[49m\n",
      "File \u001b[1;32mc:\\Users\\alkan\\AppData\\Local\\Programs\\Python\\Python311\\Lib\\site-packages\\pyarrow\\parquet\\core.py:1485\u001b[0m, in \u001b[0;36mParquetDataset.read\u001b[1;34m(self, columns, use_threads, use_pandas_metadata)\u001b[0m\n\u001b[0;32m   1477\u001b[0m         index_columns \u001b[38;5;241m=\u001b[39m [\n\u001b[0;32m   1478\u001b[0m             col \u001b[38;5;28;01mfor\u001b[39;00m col \u001b[38;5;129;01min\u001b[39;00m _get_pandas_index_columns(metadata)\n\u001b[0;32m   1479\u001b[0m             \u001b[38;5;28;01mif\u001b[39;00m \u001b[38;5;129;01mnot\u001b[39;00m \u001b[38;5;28misinstance\u001b[39m(col, \u001b[38;5;28mdict\u001b[39m)\n\u001b[0;32m   1480\u001b[0m         ]\n\u001b[0;32m   1481\u001b[0m         columns \u001b[38;5;241m=\u001b[39m (\n\u001b[0;32m   1482\u001b[0m             \u001b[38;5;28mlist\u001b[39m(columns) \u001b[38;5;241m+\u001b[39m \u001b[38;5;28mlist\u001b[39m(\u001b[38;5;28mset\u001b[39m(index_columns) \u001b[38;5;241m-\u001b[39m \u001b[38;5;28mset\u001b[39m(columns))\n\u001b[0;32m   1483\u001b[0m         )\n\u001b[1;32m-> 1485\u001b[0m table \u001b[38;5;241m=\u001b[39m \u001b[38;5;28;43mself\u001b[39;49m\u001b[38;5;241;43m.\u001b[39;49m\u001b[43m_dataset\u001b[49m\u001b[38;5;241;43m.\u001b[39;49m\u001b[43mto_table\u001b[49m\u001b[43m(\u001b[49m\n\u001b[0;32m   1486\u001b[0m \u001b[43m    \u001b[49m\u001b[43mcolumns\u001b[49m\u001b[38;5;241;43m=\u001b[39;49m\u001b[43mcolumns\u001b[49m\u001b[43m,\u001b[49m\u001b[43m \u001b[49m\u001b[38;5;28;43mfilter\u001b[39;49m\u001b[38;5;241;43m=\u001b[39;49m\u001b[38;5;28;43mself\u001b[39;49m\u001b[38;5;241;43m.\u001b[39;49m\u001b[43m_filter_expression\u001b[49m\u001b[43m,\u001b[49m\n\u001b[0;32m   1487\u001b[0m \u001b[43m    \u001b[49m\u001b[43muse_threads\u001b[49m\u001b[38;5;241;43m=\u001b[39;49m\u001b[43muse_threads\u001b[49m\n\u001b[0;32m   1488\u001b[0m \u001b[43m\u001b[49m\u001b[43m)\u001b[49m\n\u001b[0;32m   1490\u001b[0m \u001b[38;5;66;03m# if use_pandas_metadata, restore the pandas metadata (which gets\u001b[39;00m\n\u001b[0;32m   1491\u001b[0m \u001b[38;5;66;03m# lost if doing a specific `columns` selection in to_table)\u001b[39;00m\n\u001b[0;32m   1492\u001b[0m \u001b[38;5;28;01mif\u001b[39;00m use_pandas_metadata:\n",
      "File \u001b[1;32mc:\\Users\\alkan\\AppData\\Local\\Programs\\Python\\Python311\\Lib\\site-packages\\pyarrow\\_dataset.pyx:562\u001b[0m, in \u001b[0;36mpyarrow._dataset.Dataset.to_table\u001b[1;34m()\u001b[0m\n",
      "File \u001b[1;32mc:\\Users\\alkan\\AppData\\Local\\Programs\\Python\\Python311\\Lib\\site-packages\\pyarrow\\_dataset.pyx:3841\u001b[0m, in \u001b[0;36mpyarrow._dataset.Scanner.to_table\u001b[1;34m()\u001b[0m\n",
      "File \u001b[1;32mc:\\Users\\alkan\\AppData\\Local\\Programs\\Python\\Python311\\Lib\\site-packages\\pyarrow\\error.pxi:155\u001b[0m, in \u001b[0;36mpyarrow.lib.pyarrow_internal_check_status\u001b[1;34m()\u001b[0m\n",
      "File \u001b[1;32mc:\\Users\\alkan\\AppData\\Local\\Programs\\Python\\Python311\\Lib\\site-packages\\pyarrow\\error.pxi:89\u001b[0m, in \u001b[0;36mpyarrow.lib.check_status\u001b[1;34m()\u001b[0m\n",
      "\u001b[1;31mMemoryError\u001b[0m: "
     ]
    }
   ],
   "source": [
    "patient_records = gather_dict(\"normalized_data\")"
   ]
  },
  {
   "cell_type": "code",
   "execution_count": 3,
   "metadata": {},
   "outputs": [
    {
     "name": "stderr",
     "output_type": "stream",
     "text": [
      "100%|██████████| 98/98 [00:06<00:00, 15.57it/s]\n"
     ]
    }
   ],
   "source": [
    "patient_records = pipeline_script.gather_dict(\"normalized_data_20\")"
   ]
  },
  {
   "cell_type": "markdown",
   "metadata": {},
   "source": [
    "Specify The Columns To Use In Training And Prediction"
   ]
  },
  {
   "cell_type": "code",
   "execution_count": 4,
   "metadata": {},
   "outputs": [
    {
     "data": {
      "text/plain": [
       "Index(['', 'TIMESTAMP', 'BVP', 'ACC_X', 'ACC_Y', 'ACC_Z', 'TEMP', 'EDA', 'HR',\n",
       "       'IBI', 'IBI_Moving_Average_640', 'IBI_Moving_STD_640', 'ACC',\n",
       "       'Abnormal_IBI_Moving_4_Mean_Scaled', 'HR_Divided_Mean',\n",
       "       'HR_Divided_Median', 'Sleep_Stage', 'Abnormal_IBI_Moving_3',\n",
       "       'Abnormal_IBI_Moving_4'],\n",
       "      dtype='object')"
      ]
     },
     "execution_count": 4,
     "metadata": {},
     "output_type": "execute_result"
    }
   ],
   "source": [
    "patient_records[\"S002\"].head(1).columns"
   ]
  },
  {
   "cell_type": "code",
   "execution_count": 23,
   "metadata": {},
   "outputs": [],
   "source": [
    "columns = [ 'BVP', 'ACC_X', 'ACC_Y', 'ACC_Z', 'TEMP', 'EDA', 'HR',\n",
    "       'IBI',\n",
    "       'Multiple_Events', 'IBI_Moving_Average_640', 'IBI_Moving_STD_640',\n",
    "       'Abnormal_IBI_Moving_3', 'Abnormal_IBI_Moving_4', 'ACC',\n",
    "       'HR_Divided_Mean', 'HR_Divided_Median',\n",
    "       'Abnormal_IBI_Moving_4_Mean_Scaled']"
   ]
  },
  {
   "cell_type": "code",
   "execution_count": 6,
   "metadata": {},
   "outputs": [
    {
     "data": {
      "text/plain": [
       "Index(['AGE', 'GENDER', 'BMI', 'OAHI', 'AHI', 'Mean_SaO2', 'Arousal Index',\n",
       "       'MEDICAL_HISTORY', 'Sleep_Disorders', 'asthma', 'body pain', 'gerd',\n",
       "       'hypertension', 'sleep apnea', 'arrhythmia', 'depression', 'dyspnea',\n",
       "       'diabetes', 'cad', 'anxiety', 'migraine', 'osa', 'snoring',\n",
       "       'difficulty breathing', 'difficulty staying asleep', 'snort', 'rls',\n",
       "       'eds', 'rbd', 'hypersomnia', 'grind teeth', 'insomnia', 'fatigue',\n",
       "       'morning headaches', 'bruxism', 'snore', 'headache'],\n",
       "      dtype='object')"
      ]
     },
     "execution_count": 6,
     "metadata": {},
     "output_type": "execute_result"
    }
   ],
   "source": [
    "participant_df.columns"
   ]
  },
  {
   "cell_type": "code",
   "execution_count": 7,
   "metadata": {},
   "outputs": [],
   "source": [
    "columns_participant=['AGE', 'GENDER', 'BMI','asthma',\n",
    "       'body pain', 'gerd', 'hypertension', 'sleep apnea', 'arrhythmia',\n",
    "       'depression', 'dyspnea', 'diabetes', 'cad', 'anxiety', 'migraine',\n",
    "       'osa', 'snoring', 'difficulty breathing', 'difficulty staying asleep',\n",
    "       'snort', 'rls', 'eds', 'rbd', 'hypersomnia', 'grind teeth', 'insomnia',\n",
    "       'fatigue', 'morning headaches', 'bruxism', 'snore', 'headache']"
   ]
  },
  {
   "cell_type": "markdown",
   "metadata": {},
   "source": [
    "Dimensionality ="
   ]
  },
  {
   "cell_type": "code",
   "execution_count": 8,
   "metadata": {},
   "outputs": [
    {
     "name": "stdout",
     "output_type": "stream",
     "text": [
      "48\n"
     ]
    }
   ],
   "source": [
    "print(len(columns)+len(columns_participant))"
   ]
  },
  {
   "cell_type": "markdown",
   "metadata": {},
   "source": [
    "Creating Model"
   ]
  },
  {
   "cell_type": "markdown",
   "metadata": {},
   "source": [
    "1. Random Forest"
   ]
  },
  {
   "cell_type": "code",
   "execution_count": 9,
   "metadata": {},
   "outputs": [],
   "source": [
    "from sklearn.ensemble import RandomForestClassifier\n",
    "from sklearn.metrics import accuracy_score, classification_report\n",
    "from sklearn.metrics import confusion_matrix"
   ]
  },
  {
   "cell_type": "code",
   "execution_count": 10,
   "metadata": {},
   "outputs": [
    {
     "name": "stdout",
     "output_type": "stream",
     "text": [
      "[23, 42, 9, 58, 76, 85, 31, 10, 39, 57, 24, 63, 88, 38, 46] [75, 59, 72, 49, 86, 15, 58, 9, 94, 42, 11, 88, 91, 23, 31]\n"
     ]
    }
   ],
   "source": [
    "rng = np.random.default_rng(seed = 30)\n",
    "test_validation_indexes = rng.random(30)\n",
    "a, b = 0, len(patient_records.keys())  # Example range\n",
    "test_validation_indexes = np.floor(a + (b - a) * test_validation_indexes)\n",
    "test_validation_indexes = [int(i) for i in test_validation_indexes]\n",
    "\n",
    "validation_indexes = test_validation_indexes[:15]\n",
    "test_indexes = test_validation_indexes[15:]\n",
    "print(validation_indexes,test_indexes)"
   ]
  },
  {
   "cell_type": "code",
   "execution_count": 46,
   "metadata": {},
   "outputs": [
    {
     "name": "stdout",
     "output_type": "stream",
     "text": [
      "Test - Index S075:\n",
      "Sleep_Stage\n",
      "N2    39841\n",
      "P     29184\n",
      "W     19392\n",
      "R      6336\n",
      "N1     4128\n",
      "N3      192\n",
      "Name: count, dtype: int64\n",
      "Test - Index S059:\n",
      "Sleep_Stage\n",
      "N1    29088\n",
      "W     23520\n",
      "N2    23136\n",
      "P     20964\n",
      "R      2784\n",
      "N3      288\n",
      "Name: count, dtype: int64\n",
      "Test - Index S072:\n",
      "Sleep_Stage\n",
      "W     42048\n",
      "P     29847\n",
      "N2    15456\n",
      "N1    12864\n",
      "Name: count, dtype: int64\n",
      "Test - Index S049:\n",
      "Sleep_Stage\n",
      "N2    52416\n",
      "P     30957\n",
      "W     13536\n",
      "R      8160\n",
      "N1     2112\n",
      "Name: count, dtype: int64\n",
      "Test - Index S086:\n",
      "Sleep_Stage\n",
      "N2    37249\n",
      "P     22608\n",
      "W     22368\n",
      "N1    12576\n",
      "R      7680\n",
      "Name: count, dtype: int64\n",
      "Test - Index S015:\n",
      "Sleep_Stage\n",
      "N2    52512\n",
      "P     27002\n",
      "R     18240\n",
      "N3     7200\n",
      "N1     6912\n",
      "W      6816\n",
      "Name: count, dtype: int64\n",
      "Test - Index S058:\n",
      "Sleep_Stage\n",
      "W     26496\n",
      "N2    26112\n",
      "P     24580\n",
      "N1    23616\n",
      "Name: count, dtype: int64\n",
      "Test - Index S009:\n",
      "Sleep_Stage\n",
      "N2    39264\n",
      "W     24192\n",
      "P     20941\n",
      "R      7296\n",
      "N1     6432\n",
      "N3      288\n",
      "Name: count, dtype: int64\n",
      "Test - Index S094:\n",
      "Sleep_Stage\n",
      "N2    51264\n",
      "P     20884\n",
      "W     16992\n",
      "R      8256\n",
      "N1     3168\n",
      "N3      960\n",
      "Name: count, dtype: int64\n",
      "Test - Index S042:\n",
      "Sleep_Stage\n",
      "N2    52993\n",
      "P     27552\n",
      "R     11904\n",
      "N1     4896\n",
      "W      3168\n",
      "N3     1248\n",
      "Name: count, dtype: int64\n",
      "Test - Index S011:\n",
      "Sleep_Stage\n",
      "N2    40608\n",
      "P     24352\n",
      "R     16897\n",
      "N3    13440\n",
      "W      4320\n",
      "N1     2880\n",
      "Name: count, dtype: int64\n",
      "Test - Index S088:\n",
      "Sleep_Stage\n",
      "W     40032\n",
      "P     33767\n",
      "N2    23808\n",
      "R      4800\n",
      "N1     4224\n",
      "Name: count, dtype: int64\n",
      "Test - Index S091:\n",
      "Sleep_Stage\n",
      "N2    33024\n",
      "P     25533\n",
      "N3    15072\n",
      "N1    12000\n",
      "R     12000\n",
      "W      6912\n",
      "Name: count, dtype: int64\n",
      "Test - Index S023:\n",
      "Sleep_Stage\n",
      "N2    47232\n",
      "P     21053\n",
      "W     16320\n",
      "N3     8064\n",
      "R      5952\n",
      "N1     3264\n",
      "Name: count, dtype: int64\n",
      "Test - Index S031:\n",
      "Sleep_Stage\n",
      "N2    55584\n",
      "P     26448\n",
      "N1    10080\n",
      "R      6241\n",
      "N3     6144\n",
      "W      2976\n",
      "Name: count, dtype: int64\n"
     ]
    }
   ],
   "source": [
    "for index in test_indexes:  # test_indexes içindeki indeksler\n",
    "    key = f\"S{index:03}\"  # Sayıları 'SXXX' formatına dönüştür (örneğin 76 -> 'S076')\n",
    "    \n",
    "    if key in patient_records:  # Anahtar sözlükte var mı kontrol et\n",
    "        print(f\"Test - Index {key}:\")\n",
    "        df = patient_records[key]  # Sözlükten doğru anahtara göre veri al\n",
    "        print(df[\"Sleep_Stage\"].value_counts())  # Sleep_Stage sınıf dağılımını yazdır\n",
    "    else:\n",
    "        print(f\"Key '{key}' not found in patient_records!\")"
   ]
  },
  {
   "cell_type": "code",
   "execution_count": 10,
   "metadata": {},
   "outputs": [],
   "source": [
    "train_set = {}"
   ]
  },
  {
   "cell_type": "code",
   "execution_count": 11,
   "metadata": {},
   "outputs": [
    {
     "name": "stderr",
     "output_type": "stream",
     "text": [
      "100%|██████████| 98/98 [00:03<00:00, 30.63it/s]\n"
     ]
    }
   ],
   "source": [
    "for i,v in tqdm(patient_records.items()):\n",
    "    train_set[i] = v.loc[v[\"Sleep_Stage\"]!=\"P\"].copy().drop(\"\",axis = 1)\n",
    "    for column in columns_participant:\n",
    "        train_set[i].loc[:,column] = participant_df.loc[i,column]"
   ]
  },
  {
   "cell_type": "code",
   "execution_count": 12,
   "metadata": {},
   "outputs": [
    {
     "data": {
      "text/plain": [
       "29357     1\n",
       "29358     1\n",
       "29359     1\n",
       "29360     1\n",
       "29361     1\n",
       "         ..\n",
       "100680    1\n",
       "100681    1\n",
       "100682    1\n",
       "100683    1\n",
       "100684    1\n",
       "Name: GENDER, Length: 71328, dtype: int64"
      ]
     },
     "execution_count": 12,
     "metadata": {},
     "output_type": "execute_result"
    }
   ],
   "source": [
    "train_set[\"S002\"][\"GENDER\"]"
   ]
  },
  {
   "cell_type": "code",
   "execution_count": 18,
   "metadata": {},
   "outputs": [
    {
     "data": {
      "text/plain": [
       "['S002',\n",
       " 'S003',\n",
       " 'S004',\n",
       " 'S005',\n",
       " 'S006',\n",
       " 'S007',\n",
       " 'S008',\n",
       " 'S009',\n",
       " 'S010',\n",
       " 'S011',\n",
       " 'S012',\n",
       " 'S013',\n",
       " 'S014',\n",
       " 'S015',\n",
       " 'S016',\n",
       " 'S017',\n",
       " 'S018',\n",
       " 'S019',\n",
       " 'S020',\n",
       " 'S021',\n",
       " 'S022',\n",
       " 'S023',\n",
       " 'S024',\n",
       " 'S025',\n",
       " 'S026',\n",
       " 'S028',\n",
       " 'S029',\n",
       " 'S030',\n",
       " 'S031',\n",
       " 'S032',\n",
       " 'S033',\n",
       " 'S034',\n",
       " 'S035',\n",
       " 'S036',\n",
       " 'S037',\n",
       " 'S038',\n",
       " 'S039',\n",
       " 'S040',\n",
       " 'S042',\n",
       " 'S043',\n",
       " 'S044',\n",
       " 'S045',\n",
       " 'S046',\n",
       " 'S047',\n",
       " 'S048',\n",
       " 'S049',\n",
       " 'S050',\n",
       " 'S051',\n",
       " 'S052',\n",
       " 'S053',\n",
       " 'S054',\n",
       " 'S055',\n",
       " 'S056',\n",
       " 'S057',\n",
       " 'S058',\n",
       " 'S059',\n",
       " 'S061',\n",
       " 'S062',\n",
       " 'S063',\n",
       " 'S064',\n",
       " 'S065',\n",
       " 'S066',\n",
       " 'S067',\n",
       " 'S068',\n",
       " 'S069',\n",
       " 'S070',\n",
       " 'S071',\n",
       " 'S072',\n",
       " 'S073',\n",
       " 'S074',\n",
       " 'S075',\n",
       " 'S076',\n",
       " 'S078',\n",
       " 'S079',\n",
       " 'S080',\n",
       " 'S081',\n",
       " 'S082',\n",
       " 'S083',\n",
       " 'S084',\n",
       " 'S085',\n",
       " 'S086',\n",
       " 'S087',\n",
       " 'S088',\n",
       " 'S089',\n",
       " 'S090',\n",
       " 'S091',\n",
       " 'S092',\n",
       " 'S093',\n",
       " 'S094',\n",
       " 'S095',\n",
       " 'S096',\n",
       " 'S097',\n",
       " 'S098',\n",
       " 'S099',\n",
       " 'S100',\n",
       " 'S101',\n",
       " 'S102',\n",
       " 'S103']"
      ]
     },
     "execution_count": 18,
     "metadata": {},
     "output_type": "execute_result"
    }
   ],
   "source": [
    "list(train_set.keys())"
   ]
  },
  {
   "cell_type": "code",
   "execution_count": 13,
   "metadata": {},
   "outputs": [
    {
     "name": "stderr",
     "output_type": "stream",
     "text": [
      "0it [00:00, ?it/s]\n"
     ]
    },
    {
     "ename": "NameError",
     "evalue": "name 'test_indexes' is not defined",
     "output_type": "error",
     "traceback": [
      "\u001b[1;31m---------------------------------------------------------------------------\u001b[0m",
      "\u001b[1;31mNameError\u001b[0m                                 Traceback (most recent call last)",
      "Cell \u001b[1;32mIn[13], line 3\u001b[0m\n\u001b[0;32m      1\u001b[0m filtered_dict \u001b[38;5;241m=\u001b[39m {}\n\u001b[0;32m      2\u001b[0m \u001b[38;5;28;01mfor\u001b[39;00m i,key \u001b[38;5;129;01min\u001b[39;00m tqdm(\u001b[38;5;28menumerate\u001b[39m(\u001b[38;5;28mlist\u001b[39m(train_set\u001b[38;5;241m.\u001b[39mkeys()))):\n\u001b[1;32m----> 3\u001b[0m     \u001b[38;5;28;01mif\u001b[39;00m i \u001b[38;5;129;01min\u001b[39;00m \u001b[43mtest_indexes\u001b[49m \u001b[38;5;129;01mor\u001b[39;00m i \u001b[38;5;129;01min\u001b[39;00m validation_indexes:\n\u001b[0;32m      4\u001b[0m         \u001b[38;5;28;01mcontinue\u001b[39;00m\n\u001b[0;32m      5\u001b[0m     \u001b[38;5;28;01melse\u001b[39;00m:\n",
      "\u001b[1;31mNameError\u001b[0m: name 'test_indexes' is not defined"
     ]
    }
   ],
   "source": [
    "filtered_dict = {}\n",
    "for i,key in tqdm(enumerate(list(train_set.keys()))):\n",
    "    if i in test_indexes or i in validation_indexes:\n",
    "        continue\n",
    "    else:\n",
    "        filtered_dict[key] = train_set[key]\n",
    "len(filtered_dict.keys())"
   ]
  },
  {
   "cell_type": "code",
   "execution_count": 14,
   "metadata": {},
   "outputs": [
    {
     "data": {
      "text/html": [
       "<div>\n",
       "<style scoped>\n",
       "    .dataframe tbody tr th:only-of-type {\n",
       "        vertical-align: middle;\n",
       "    }\n",
       "\n",
       "    .dataframe tbody tr th {\n",
       "        vertical-align: top;\n",
       "    }\n",
       "\n",
       "    .dataframe thead th {\n",
       "        text-align: right;\n",
       "    }\n",
       "</style>\n",
       "<table border=\"1\" class=\"dataframe\">\n",
       "  <thead>\n",
       "    <tr style=\"text-align: right;\">\n",
       "      <th></th>\n",
       "      <th>TIMESTAMP</th>\n",
       "      <th>BVP</th>\n",
       "      <th>ACC_X</th>\n",
       "      <th>ACC_Y</th>\n",
       "      <th>ACC_Z</th>\n",
       "      <th>TEMP</th>\n",
       "      <th>EDA</th>\n",
       "      <th>HR</th>\n",
       "      <th>IBI</th>\n",
       "      <th>IBI_Moving_Average_640</th>\n",
       "      <th>...</th>\n",
       "      <th>eds</th>\n",
       "      <th>rbd</th>\n",
       "      <th>hypersomnia</th>\n",
       "      <th>grind teeth</th>\n",
       "      <th>insomnia</th>\n",
       "      <th>fatigue</th>\n",
       "      <th>morning headaches</th>\n",
       "      <th>bruxism</th>\n",
       "      <th>snore</th>\n",
       "      <th>headache</th>\n",
       "    </tr>\n",
       "  </thead>\n",
       "  <tbody>\n",
       "    <tr>\n",
       "      <th>0</th>\n",
       "      <td>9174.210938</td>\n",
       "      <td>7.1840</td>\n",
       "      <td>-21.3</td>\n",
       "      <td>-61.5</td>\n",
       "      <td>6.3</td>\n",
       "      <td>32.09</td>\n",
       "      <td>0.065832</td>\n",
       "      <td>72.85</td>\n",
       "      <td>1.0625</td>\n",
       "      <td>0.912887</td>\n",
       "      <td>...</td>\n",
       "      <td>0</td>\n",
       "      <td>0</td>\n",
       "      <td>0</td>\n",
       "      <td>0</td>\n",
       "      <td>0</td>\n",
       "      <td>0</td>\n",
       "      <td>0</td>\n",
       "      <td>0</td>\n",
       "      <td>0</td>\n",
       "      <td>0</td>\n",
       "    </tr>\n",
       "    <tr>\n",
       "      <th>1</th>\n",
       "      <td>9174.523438</td>\n",
       "      <td>-3.3475</td>\n",
       "      <td>-21.3</td>\n",
       "      <td>-61.4</td>\n",
       "      <td>6.0</td>\n",
       "      <td>32.09</td>\n",
       "      <td>0.065064</td>\n",
       "      <td>72.85</td>\n",
       "      <td>1.0625</td>\n",
       "      <td>0.912985</td>\n",
       "      <td>...</td>\n",
       "      <td>0</td>\n",
       "      <td>0</td>\n",
       "      <td>0</td>\n",
       "      <td>0</td>\n",
       "      <td>0</td>\n",
       "      <td>0</td>\n",
       "      <td>0</td>\n",
       "      <td>0</td>\n",
       "      <td>0</td>\n",
       "      <td>0</td>\n",
       "    </tr>\n",
       "    <tr>\n",
       "      <th>2</th>\n",
       "      <td>9174.835938</td>\n",
       "      <td>-12.6025</td>\n",
       "      <td>-21.4</td>\n",
       "      <td>-61.5</td>\n",
       "      <td>5.3</td>\n",
       "      <td>32.09</td>\n",
       "      <td>0.065064</td>\n",
       "      <td>72.85</td>\n",
       "      <td>1.0625</td>\n",
       "      <td>0.913082</td>\n",
       "      <td>...</td>\n",
       "      <td>0</td>\n",
       "      <td>0</td>\n",
       "      <td>0</td>\n",
       "      <td>0</td>\n",
       "      <td>0</td>\n",
       "      <td>0</td>\n",
       "      <td>0</td>\n",
       "      <td>0</td>\n",
       "      <td>0</td>\n",
       "      <td>0</td>\n",
       "    </tr>\n",
       "    <tr>\n",
       "      <th>3</th>\n",
       "      <td>9175.148438</td>\n",
       "      <td>-8.7865</td>\n",
       "      <td>-20.9</td>\n",
       "      <td>-61.7</td>\n",
       "      <td>5.5</td>\n",
       "      <td>32.11</td>\n",
       "      <td>0.065320</td>\n",
       "      <td>73.33</td>\n",
       "      <td>1.0625</td>\n",
       "      <td>0.913180</td>\n",
       "      <td>...</td>\n",
       "      <td>0</td>\n",
       "      <td>0</td>\n",
       "      <td>0</td>\n",
       "      <td>0</td>\n",
       "      <td>0</td>\n",
       "      <td>0</td>\n",
       "      <td>0</td>\n",
       "      <td>0</td>\n",
       "      <td>0</td>\n",
       "      <td>0</td>\n",
       "    </tr>\n",
       "    <tr>\n",
       "      <th>4</th>\n",
       "      <td>9175.460938</td>\n",
       "      <td>-1.1710</td>\n",
       "      <td>-21.6</td>\n",
       "      <td>-61.3</td>\n",
       "      <td>5.3</td>\n",
       "      <td>32.11</td>\n",
       "      <td>0.065320</td>\n",
       "      <td>73.33</td>\n",
       "      <td>1.0625</td>\n",
       "      <td>0.913278</td>\n",
       "      <td>...</td>\n",
       "      <td>0</td>\n",
       "      <td>0</td>\n",
       "      <td>0</td>\n",
       "      <td>0</td>\n",
       "      <td>0</td>\n",
       "      <td>0</td>\n",
       "      <td>0</td>\n",
       "      <td>0</td>\n",
       "      <td>0</td>\n",
       "      <td>0</td>\n",
       "    </tr>\n",
       "  </tbody>\n",
       "</table>\n",
       "<p>5 rows × 49 columns</p>\n",
       "</div>"
      ],
      "text/plain": [
       "     TIMESTAMP      BVP  ACC_X  ACC_Y  ACC_Z   TEMP       EDA     HR     IBI  \\\n",
       "0  9174.210938   7.1840  -21.3  -61.5    6.3  32.09  0.065832  72.85  1.0625   \n",
       "1  9174.523438  -3.3475  -21.3  -61.4    6.0  32.09  0.065064  72.85  1.0625   \n",
       "2  9174.835938 -12.6025  -21.4  -61.5    5.3  32.09  0.065064  72.85  1.0625   \n",
       "3  9175.148438  -8.7865  -20.9  -61.7    5.5  32.11  0.065320  73.33  1.0625   \n",
       "4  9175.460938  -1.1710  -21.6  -61.3    5.3  32.11  0.065320  73.33  1.0625   \n",
       "\n",
       "   IBI_Moving_Average_640  ...  eds  rbd  hypersomnia  grind teeth  insomnia  \\\n",
       "0                0.912887  ...    0    0            0            0         0   \n",
       "1                0.912985  ...    0    0            0            0         0   \n",
       "2                0.913082  ...    0    0            0            0         0   \n",
       "3                0.913180  ...    0    0            0            0         0   \n",
       "4                0.913278  ...    0    0            0            0         0   \n",
       "\n",
       "  fatigue  morning headaches  bruxism  snore  headache  \n",
       "0       0                  0        0      0         0  \n",
       "1       0                  0        0      0         0  \n",
       "2       0                  0        0      0         0  \n",
       "3       0                  0        0      0         0  \n",
       "4       0                  0        0      0         0  \n",
       "\n",
       "[5 rows x 49 columns]"
      ]
     },
     "execution_count": 14,
     "metadata": {},
     "output_type": "execute_result"
    }
   ],
   "source": [
    "combined_df = pd.concat(train_set.values(),ignore_index=True)\n",
    "combined_df.head()"
   ]
  },
  {
   "cell_type": "code",
   "execution_count": 56,
   "metadata": {},
   "outputs": [],
   "source": [
    "from sklearn.model_selection import train_test_split\n",
    "from sklearn.metrics import precision_score, recall_score, f1_score"
   ]
  },
  {
   "cell_type": "code",
   "execution_count": 17,
   "metadata": {},
   "outputs": [],
   "source": [
    "\n",
    "# Adım 3: Yaygın hastaları stratify ile böl\n",
    "train_common, test_val_common = train_test_split(\n",
    "    combined_df, test_size=0.3, random_state=42, stratify=combined_df[\"Sleep_Stage\"]\n",
    ")\n"
   ]
  },
  {
   "cell_type": "code",
   "execution_count": 18,
   "metadata": {},
   "outputs": [
    {
     "data": {
      "text/plain": [
       "Index(['TIMESTAMP', 'BVP', 'ACC_X', 'ACC_Y', 'ACC_Z', 'TEMP', 'EDA', 'HR',\n",
       "       'IBI', 'IBI_Moving_Average_640', 'IBI_Moving_STD_640', 'ACC',\n",
       "       'Abnormal_IBI_Moving_4_Mean_Scaled', 'HR_Divided_Mean',\n",
       "       'HR_Divided_Median', 'Sleep_Stage', 'Abnormal_IBI_Moving_3',\n",
       "       'Abnormal_IBI_Moving_4', 'AGE', 'GENDER', 'BMI', 'asthma', 'body pain',\n",
       "       'gerd', 'hypertension', 'sleep apnea', 'arrhythmia', 'depression',\n",
       "       'dyspnea', 'diabetes', 'cad', 'anxiety', 'migraine', 'osa', 'snoring',\n",
       "       'difficulty breathing', 'difficulty staying asleep', 'snort', 'rls',\n",
       "       'eds', 'rbd', 'hypersomnia', 'grind teeth', 'insomnia', 'fatigue',\n",
       "       'morning headaches', 'bruxism', 'snore', 'headache'],\n",
       "      dtype='object')"
      ]
     },
     "execution_count": 18,
     "metadata": {},
     "output_type": "execute_result"
    }
   ],
   "source": [
    "test_val_common.columns"
   ]
  },
  {
   "cell_type": "code",
   "execution_count": 19,
   "metadata": {},
   "outputs": [],
   "source": [
    "\n",
    "# Test ve validation setini oluştur\n",
    "validation_common, test_common = train_test_split(\n",
    "    test_val_common, test_size=0.5, random_state=42, stratify=test_val_common[\"Sleep_Stage\"]\n",
    ")\n"
   ]
  },
  {
   "cell_type": "code",
   "execution_count": null,
   "metadata": {},
   "outputs": [],
   "source": [
    "def eval_model(model,validation_set):\n",
    "    y_pred = []\n",
    "    y_test = []\n",
    "    for i in validation_indexes:\n",
    "        index = list(train_set.keys())[int(i)]\n",
    "        df_pred = train_set[index]\n",
    "        y_pred.extend(list(model.predict(df_pred[cols])))\n",
    "        y_test.extend(list(df_pred[\"Sleep_Stage\"]))\n",
    "\n",
    "    accuracy = accuracy_score(y_test, y_pred)\n",
    "    cm = confusion_matrix(y_test, y_pred)\n",
    "    \n",
    "    return accuracy,cm"
   ]
  },
  {
   "cell_type": "code",
   "execution_count": 20,
   "metadata": {},
   "outputs": [
    {
     "data": {
      "text/plain": [
       "['TIMESTAMP',\n",
       " 'BVP',\n",
       " 'ACC_X',\n",
       " 'ACC_Y',\n",
       " 'ACC_Z',\n",
       " 'TEMP',\n",
       " 'EDA',\n",
       " 'HR',\n",
       " 'IBI',\n",
       " 'IBI_Moving_Average_640',\n",
       " 'IBI_Moving_STD_640',\n",
       " 'ACC',\n",
       " 'Abnormal_IBI_Moving_4_Mean_Scaled',\n",
       " 'HR_Divided_Mean',\n",
       " 'HR_Divided_Median',\n",
       " 'Abnormal_IBI_Moving_3',\n",
       " 'Abnormal_IBI_Moving_4',\n",
       " 'AGE',\n",
       " 'GENDER',\n",
       " 'BMI',\n",
       " 'asthma',\n",
       " 'body pain',\n",
       " 'gerd',\n",
       " 'hypertension',\n",
       " 'sleep apnea',\n",
       " 'arrhythmia',\n",
       " 'depression',\n",
       " 'dyspnea',\n",
       " 'diabetes',\n",
       " 'cad',\n",
       " 'anxiety',\n",
       " 'migraine',\n",
       " 'osa',\n",
       " 'snoring',\n",
       " 'difficulty breathing',\n",
       " 'difficulty staying asleep',\n",
       " 'snort',\n",
       " 'rls',\n",
       " 'eds',\n",
       " 'rbd',\n",
       " 'hypersomnia',\n",
       " 'grind teeth',\n",
       " 'insomnia',\n",
       " 'fatigue',\n",
       " 'morning headaches',\n",
       " 'bruxism',\n",
       " 'snore',\n",
       " 'headache']"
      ]
     },
     "execution_count": 20,
     "metadata": {},
     "output_type": "execute_result"
    }
   ],
   "source": [
    "cols = combined_df.columns.to_list()\n",
    "cols.remove(\"Sleep_Stage\")\n",
    "cols"
   ]
  },
  {
   "cell_type": "code",
   "execution_count": 32,
   "metadata": {},
   "outputs": [
    {
     "data": {
      "text/html": [
       "<div>\n",
       "<style scoped>\n",
       "    .dataframe tbody tr th:only-of-type {\n",
       "        vertical-align: middle;\n",
       "    }\n",
       "\n",
       "    .dataframe tbody tr th {\n",
       "        vertical-align: top;\n",
       "    }\n",
       "\n",
       "    .dataframe thead th {\n",
       "        text-align: right;\n",
       "    }\n",
       "</style>\n",
       "<table border=\"1\" class=\"dataframe\">\n",
       "  <thead>\n",
       "    <tr style=\"text-align: right;\">\n",
       "      <th></th>\n",
       "      <th>TIMESTAMP</th>\n",
       "      <th>BVP</th>\n",
       "      <th>ACC_X</th>\n",
       "      <th>ACC_Y</th>\n",
       "      <th>ACC_Z</th>\n",
       "      <th>TEMP</th>\n",
       "      <th>EDA</th>\n",
       "      <th>HR</th>\n",
       "      <th>IBI</th>\n",
       "      <th>IBI_Moving_Average_640</th>\n",
       "      <th>...</th>\n",
       "      <th>eds</th>\n",
       "      <th>rbd</th>\n",
       "      <th>hypersomnia</th>\n",
       "      <th>grind teeth</th>\n",
       "      <th>insomnia</th>\n",
       "      <th>fatigue</th>\n",
       "      <th>morning headaches</th>\n",
       "      <th>bruxism</th>\n",
       "      <th>snore</th>\n",
       "      <th>headache</th>\n",
       "    </tr>\n",
       "  </thead>\n",
       "  <tbody>\n",
       "    <tr>\n",
       "      <th>2763650</th>\n",
       "      <td>19130.148438</td>\n",
       "      <td>-12.4690</td>\n",
       "      <td>29.0</td>\n",
       "      <td>13.0</td>\n",
       "      <td>-54.0</td>\n",
       "      <td>29.530</td>\n",
       "      <td>0.130403</td>\n",
       "      <td>48.380</td>\n",
       "      <td>1.250000</td>\n",
       "      <td>1.265963</td>\n",
       "      <td>...</td>\n",
       "      <td>0</td>\n",
       "      <td>0</td>\n",
       "      <td>0</td>\n",
       "      <td>0</td>\n",
       "      <td>0</td>\n",
       "      <td>0</td>\n",
       "      <td>0</td>\n",
       "      <td>0</td>\n",
       "      <td>0</td>\n",
       "      <td>0</td>\n",
       "    </tr>\n",
       "    <tr>\n",
       "      <th>152231</th>\n",
       "      <td>6303.585938</td>\n",
       "      <td>-25.4255</td>\n",
       "      <td>-39.2</td>\n",
       "      <td>47.1</td>\n",
       "      <td>19.8</td>\n",
       "      <td>32.890</td>\n",
       "      <td>0.236245</td>\n",
       "      <td>93.380</td>\n",
       "      <td>0.637500</td>\n",
       "      <td>0.639924</td>\n",
       "      <td>...</td>\n",
       "      <td>0</td>\n",
       "      <td>0</td>\n",
       "      <td>0</td>\n",
       "      <td>0</td>\n",
       "      <td>0</td>\n",
       "      <td>0</td>\n",
       "      <td>0</td>\n",
       "      <td>0</td>\n",
       "      <td>0</td>\n",
       "      <td>0</td>\n",
       "    </tr>\n",
       "    <tr>\n",
       "      <th>7055442</th>\n",
       "      <td>23781.398438</td>\n",
       "      <td>72.4150</td>\n",
       "      <td>12.5</td>\n",
       "      <td>-52.9</td>\n",
       "      <td>31.3</td>\n",
       "      <td>32.000</td>\n",
       "      <td>0.348585</td>\n",
       "      <td>65.530</td>\n",
       "      <td>1.031250</td>\n",
       "      <td>1.031250</td>\n",
       "      <td>...</td>\n",
       "      <td>0</td>\n",
       "      <td>0</td>\n",
       "      <td>0</td>\n",
       "      <td>0</td>\n",
       "      <td>0</td>\n",
       "      <td>0</td>\n",
       "      <td>0</td>\n",
       "      <td>0</td>\n",
       "      <td>0</td>\n",
       "      <td>0</td>\n",
       "    </tr>\n",
       "    <tr>\n",
       "      <th>6116065</th>\n",
       "      <td>18400.148438</td>\n",
       "      <td>-43.8910</td>\n",
       "      <td>36.9</td>\n",
       "      <td>-43.8</td>\n",
       "      <td>26.2</td>\n",
       "      <td>31.690</td>\n",
       "      <td>0.274951</td>\n",
       "      <td>66.480</td>\n",
       "      <td>0.890625</td>\n",
       "      <td>0.898917</td>\n",
       "      <td>...</td>\n",
       "      <td>1</td>\n",
       "      <td>0</td>\n",
       "      <td>0</td>\n",
       "      <td>0</td>\n",
       "      <td>0</td>\n",
       "      <td>0</td>\n",
       "      <td>0</td>\n",
       "      <td>0</td>\n",
       "      <td>0</td>\n",
       "      <td>0</td>\n",
       "    </tr>\n",
       "    <tr>\n",
       "      <th>2440736</th>\n",
       "      <td>10214.523438</td>\n",
       "      <td>-78.9050</td>\n",
       "      <td>-64.0</td>\n",
       "      <td>11.0</td>\n",
       "      <td>-2.0</td>\n",
       "      <td>33.680</td>\n",
       "      <td>0.522924</td>\n",
       "      <td>47.180</td>\n",
       "      <td>1.275000</td>\n",
       "      <td>1.260592</td>\n",
       "      <td>...</td>\n",
       "      <td>0</td>\n",
       "      <td>0</td>\n",
       "      <td>0</td>\n",
       "      <td>0</td>\n",
       "      <td>0</td>\n",
       "      <td>0</td>\n",
       "      <td>0</td>\n",
       "      <td>0</td>\n",
       "      <td>0</td>\n",
       "      <td>0</td>\n",
       "    </tr>\n",
       "    <tr>\n",
       "      <th>...</th>\n",
       "      <td>...</td>\n",
       "      <td>...</td>\n",
       "      <td>...</td>\n",
       "      <td>...</td>\n",
       "      <td>...</td>\n",
       "      <td>...</td>\n",
       "      <td>...</td>\n",
       "      <td>...</td>\n",
       "      <td>...</td>\n",
       "      <td>...</td>\n",
       "      <td>...</td>\n",
       "      <td>...</td>\n",
       "      <td>...</td>\n",
       "      <td>...</td>\n",
       "      <td>...</td>\n",
       "      <td>...</td>\n",
       "      <td>...</td>\n",
       "      <td>...</td>\n",
       "      <td>...</td>\n",
       "      <td>...</td>\n",
       "      <td>...</td>\n",
       "    </tr>\n",
       "    <tr>\n",
       "      <th>279042</th>\n",
       "      <td>24093.898438</td>\n",
       "      <td>12.3595</td>\n",
       "      <td>-60.9</td>\n",
       "      <td>-0.2</td>\n",
       "      <td>-23.0</td>\n",
       "      <td>35.474</td>\n",
       "      <td>0.592416</td>\n",
       "      <td>70.916</td>\n",
       "      <td>0.875000</td>\n",
       "      <td>0.853413</td>\n",
       "      <td>...</td>\n",
       "      <td>0</td>\n",
       "      <td>0</td>\n",
       "      <td>0</td>\n",
       "      <td>0</td>\n",
       "      <td>0</td>\n",
       "      <td>0</td>\n",
       "      <td>0</td>\n",
       "      <td>0</td>\n",
       "      <td>0</td>\n",
       "      <td>0</td>\n",
       "    </tr>\n",
       "    <tr>\n",
       "      <th>7271574</th>\n",
       "      <td>19725.148438</td>\n",
       "      <td>6.2045</td>\n",
       "      <td>49.0</td>\n",
       "      <td>-16.9</td>\n",
       "      <td>35.1</td>\n",
       "      <td>35.130</td>\n",
       "      <td>0.146010</td>\n",
       "      <td>66.730</td>\n",
       "      <td>0.843750</td>\n",
       "      <td>0.900206</td>\n",
       "      <td>...</td>\n",
       "      <td>1</td>\n",
       "      <td>0</td>\n",
       "      <td>0</td>\n",
       "      <td>0</td>\n",
       "      <td>0</td>\n",
       "      <td>0</td>\n",
       "      <td>0</td>\n",
       "      <td>0</td>\n",
       "      <td>0</td>\n",
       "      <td>0</td>\n",
       "    </tr>\n",
       "    <tr>\n",
       "      <th>4193034</th>\n",
       "      <td>10002.023438</td>\n",
       "      <td>5.7555</td>\n",
       "      <td>31.0</td>\n",
       "      <td>12.0</td>\n",
       "      <td>-53.6</td>\n",
       "      <td>33.642</td>\n",
       "      <td>0.037916</td>\n",
       "      <td>67.764</td>\n",
       "      <td>1.265625</td>\n",
       "      <td>1.265625</td>\n",
       "      <td>...</td>\n",
       "      <td>0</td>\n",
       "      <td>0</td>\n",
       "      <td>0</td>\n",
       "      <td>0</td>\n",
       "      <td>0</td>\n",
       "      <td>0</td>\n",
       "      <td>0</td>\n",
       "      <td>0</td>\n",
       "      <td>0</td>\n",
       "      <td>0</td>\n",
       "    </tr>\n",
       "    <tr>\n",
       "      <th>4136427</th>\n",
       "      <td>17110.148438</td>\n",
       "      <td>4.8600</td>\n",
       "      <td>-16.0</td>\n",
       "      <td>56.0</td>\n",
       "      <td>28.0</td>\n",
       "      <td>35.790</td>\n",
       "      <td>0.166297</td>\n",
       "      <td>69.250</td>\n",
       "      <td>0.796875</td>\n",
       "      <td>0.843813</td>\n",
       "      <td>...</td>\n",
       "      <td>1</td>\n",
       "      <td>0</td>\n",
       "      <td>0</td>\n",
       "      <td>0</td>\n",
       "      <td>0</td>\n",
       "      <td>0</td>\n",
       "      <td>0</td>\n",
       "      <td>0</td>\n",
       "      <td>0</td>\n",
       "      <td>0</td>\n",
       "    </tr>\n",
       "    <tr>\n",
       "      <th>5649180</th>\n",
       "      <td>9877.960938</td>\n",
       "      <td>9.8980</td>\n",
       "      <td>-50.0</td>\n",
       "      <td>-27.0</td>\n",
       "      <td>-29.4</td>\n",
       "      <td>34.942</td>\n",
       "      <td>0.188788</td>\n",
       "      <td>69.158</td>\n",
       "      <td>0.906250</td>\n",
       "      <td>0.885780</td>\n",
       "      <td>...</td>\n",
       "      <td>0</td>\n",
       "      <td>0</td>\n",
       "      <td>0</td>\n",
       "      <td>0</td>\n",
       "      <td>0</td>\n",
       "      <td>0</td>\n",
       "      <td>0</td>\n",
       "      <td>0</td>\n",
       "      <td>0</td>\n",
       "      <td>0</td>\n",
       "    </tr>\n",
       "  </tbody>\n",
       "</table>\n",
       "<p>5279781 rows × 48 columns</p>\n",
       "</div>"
      ],
      "text/plain": [
       "            TIMESTAMP      BVP  ACC_X  ACC_Y  ACC_Z    TEMP       EDA      HR  \\\n",
       "2763650  19130.148438 -12.4690   29.0   13.0  -54.0  29.530  0.130403  48.380   \n",
       "152231    6303.585938 -25.4255  -39.2   47.1   19.8  32.890  0.236245  93.380   \n",
       "7055442  23781.398438  72.4150   12.5  -52.9   31.3  32.000  0.348585  65.530   \n",
       "6116065  18400.148438 -43.8910   36.9  -43.8   26.2  31.690  0.274951  66.480   \n",
       "2440736  10214.523438 -78.9050  -64.0   11.0   -2.0  33.680  0.522924  47.180   \n",
       "...               ...      ...    ...    ...    ...     ...       ...     ...   \n",
       "279042   24093.898438  12.3595  -60.9   -0.2  -23.0  35.474  0.592416  70.916   \n",
       "7271574  19725.148438   6.2045   49.0  -16.9   35.1  35.130  0.146010  66.730   \n",
       "4193034  10002.023438   5.7555   31.0   12.0  -53.6  33.642  0.037916  67.764   \n",
       "4136427  17110.148438   4.8600  -16.0   56.0   28.0  35.790  0.166297  69.250   \n",
       "5649180   9877.960938   9.8980  -50.0  -27.0  -29.4  34.942  0.188788  69.158   \n",
       "\n",
       "              IBI  IBI_Moving_Average_640  ...  eds  rbd  hypersomnia  \\\n",
       "2763650  1.250000                1.265963  ...    0    0            0   \n",
       "152231   0.637500                0.639924  ...    0    0            0   \n",
       "7055442  1.031250                1.031250  ...    0    0            0   \n",
       "6116065  0.890625                0.898917  ...    1    0            0   \n",
       "2440736  1.275000                1.260592  ...    0    0            0   \n",
       "...           ...                     ...  ...  ...  ...          ...   \n",
       "279042   0.875000                0.853413  ...    0    0            0   \n",
       "7271574  0.843750                0.900206  ...    1    0            0   \n",
       "4193034  1.265625                1.265625  ...    0    0            0   \n",
       "4136427  0.796875                0.843813  ...    1    0            0   \n",
       "5649180  0.906250                0.885780  ...    0    0            0   \n",
       "\n",
       "         grind teeth  insomnia  fatigue  morning headaches  bruxism  snore  \\\n",
       "2763650            0         0        0                  0        0      0   \n",
       "152231             0         0        0                  0        0      0   \n",
       "7055442            0         0        0                  0        0      0   \n",
       "6116065            0         0        0                  0        0      0   \n",
       "2440736            0         0        0                  0        0      0   \n",
       "...              ...       ...      ...                ...      ...    ...   \n",
       "279042             0         0        0                  0        0      0   \n",
       "7271574            0         0        0                  0        0      0   \n",
       "4193034            0         0        0                  0        0      0   \n",
       "4136427            0         0        0                  0        0      0   \n",
       "5649180            0         0        0                  0        0      0   \n",
       "\n",
       "         headache  \n",
       "2763650         0  \n",
       "152231          0  \n",
       "7055442         0  \n",
       "6116065         0  \n",
       "2440736         0  \n",
       "...           ...  \n",
       "279042          0  \n",
       "7271574         0  \n",
       "4193034         0  \n",
       "4136427         0  \n",
       "5649180         0  \n",
       "\n",
       "[5279781 rows x 48 columns]"
      ]
     },
     "execution_count": 32,
     "metadata": {},
     "output_type": "execute_result"
    }
   ],
   "source": [
    "train_common[cols]"
   ]
  },
  {
   "cell_type": "code",
   "execution_count": 39,
   "metadata": {},
   "outputs": [
    {
     "data": {
      "text/plain": [
       "164993"
      ]
     },
     "execution_count": 39,
     "metadata": {},
     "output_type": "execute_result"
    }
   ],
   "source": [
    "5279781//32"
   ]
  },
  {
   "cell_type": "code",
   "execution_count": 52,
   "metadata": {},
   "outputs": [
    {
     "data": {
      "text/html": [
       "<div>\n",
       "<style scoped>\n",
       "    .dataframe tbody tr th:only-of-type {\n",
       "        vertical-align: middle;\n",
       "    }\n",
       "\n",
       "    .dataframe tbody tr th {\n",
       "        vertical-align: top;\n",
       "    }\n",
       "\n",
       "    .dataframe thead th {\n",
       "        text-align: right;\n",
       "    }\n",
       "</style>\n",
       "<table border=\"1\" class=\"dataframe\">\n",
       "  <thead>\n",
       "    <tr style=\"text-align: right;\">\n",
       "      <th></th>\n",
       "      <th>TIMESTAMP</th>\n",
       "      <th>BVP</th>\n",
       "      <th>ACC_X</th>\n",
       "      <th>ACC_Y</th>\n",
       "      <th>ACC_Z</th>\n",
       "      <th>TEMP</th>\n",
       "      <th>EDA</th>\n",
       "      <th>HR</th>\n",
       "      <th>IBI</th>\n",
       "      <th>IBI_Moving_Average_640</th>\n",
       "      <th>...</th>\n",
       "      <th>eds</th>\n",
       "      <th>rbd</th>\n",
       "      <th>hypersomnia</th>\n",
       "      <th>grind teeth</th>\n",
       "      <th>insomnia</th>\n",
       "      <th>fatigue</th>\n",
       "      <th>morning headaches</th>\n",
       "      <th>bruxism</th>\n",
       "      <th>snore</th>\n",
       "      <th>headache</th>\n",
       "    </tr>\n",
       "  </thead>\n",
       "  <tbody>\n",
       "    <tr>\n",
       "      <th>2763650</th>\n",
       "      <td>19130.148438</td>\n",
       "      <td>-12.469</td>\n",
       "      <td>29.0</td>\n",
       "      <td>13.0</td>\n",
       "      <td>-54.0</td>\n",
       "      <td>29.53</td>\n",
       "      <td>0.130403</td>\n",
       "      <td>48.38</td>\n",
       "      <td>1.25</td>\n",
       "      <td>1.265963</td>\n",
       "      <td>...</td>\n",
       "      <td>0</td>\n",
       "      <td>0</td>\n",
       "      <td>0</td>\n",
       "      <td>0</td>\n",
       "      <td>0</td>\n",
       "      <td>0</td>\n",
       "      <td>0</td>\n",
       "      <td>0</td>\n",
       "      <td>0</td>\n",
       "      <td>0</td>\n",
       "    </tr>\n",
       "  </tbody>\n",
       "</table>\n",
       "<p>1 rows × 48 columns</p>\n",
       "</div>"
      ],
      "text/plain": [
       "            TIMESTAMP     BVP  ACC_X  ACC_Y  ACC_Z   TEMP       EDA     HR  \\\n",
       "2763650  19130.148438 -12.469   29.0   13.0  -54.0  29.53  0.130403  48.38   \n",
       "\n",
       "          IBI  IBI_Moving_Average_640  ...  eds  rbd  hypersomnia  \\\n",
       "2763650  1.25                1.265963  ...    0    0            0   \n",
       "\n",
       "         grind teeth  insomnia  fatigue  morning headaches  bruxism  snore  \\\n",
       "2763650            0         0        0                  0        0      0   \n",
       "\n",
       "         headache  \n",
       "2763650         0  \n",
       "\n",
       "[1 rows x 48 columns]"
      ]
     },
     "execution_count": 52,
     "metadata": {},
     "output_type": "execute_result"
    }
   ],
   "source": [
    "train_common[cols][:1 ]"
   ]
  },
  {
   "cell_type": "code",
   "execution_count": 60,
   "metadata": {},
   "outputs": [
    {
     "name": "stderr",
     "output_type": "stream",
     "text": [
      "Training Progress:   0%|          | 0/2 [00:00<?, ?it/s]c:\\Users\\alkan\\AppData\\Local\\Programs\\Python\\Python311\\Lib\\site-packages\\sklearn\\ensemble\\_forest.py:861: UserWarning: class_weight presets \"balanced\" or \"balanced_subsample\" are not recommended for warm_start if the fitted data differs from the full dataset. In order to use \"balanced\" weights, use compute_class_weight (\"balanced\", classes, y). In place of y you can use a large enough sample of the full training set target to properly estimate the class frequency distributions. Pass the resulting weights as the class_weight parameter.\n",
      "  warn(\n",
      "[Parallel(n_jobs=-1)]: Using backend ThreadingBackend with 8 concurrent workers.\n",
      "Training Progress:  50%|█████     | 1/2 [00:47<00:47, 47.45s/it]"
     ]
    },
    {
     "name": "stdout",
     "output_type": "stream",
     "text": [
      "0.9607639152823715 [[115964   5690     19    629   3597]\n",
      " [ 11798 543302   3722   1209   4248]\n",
      " [    29   1258  37531     14     48]\n",
      " [   481    918     11 117010    582]\n",
      " [  4907   4242     88    901 273184]]\n",
      "0.9406084967727587\n",
      "0.9593388682820972\n",
      "0.9496359446709828\n"
     ]
    },
    {
     "name": "stderr",
     "output_type": "stream",
     "text": [
      "Training Progress:  50%|█████     | 1/2 [01:20<01:20, 80.65s/it]\n"
     ]
    },
    {
     "ename": "KeyboardInterrupt",
     "evalue": "",
     "output_type": "error",
     "traceback": [
      "\u001b[1;31m---------------------------------------------------------------------------\u001b[0m",
      "\u001b[1;31mKeyboardInterrupt\u001b[0m                         Traceback (most recent call last)",
      "Cell \u001b[1;32mIn[60], line 11\u001b[0m\n\u001b[0;32m      9\u001b[0m \u001b[38;5;28;01mfor\u001b[39;00m i \u001b[38;5;129;01min\u001b[39;00m \u001b[38;5;28mrange\u001b[39m(\u001b[38;5;241m1\u001b[39m, total_estimators \u001b[38;5;241m+\u001b[39m \u001b[38;5;241m1\u001b[39m):\n\u001b[0;32m     10\u001b[0m     rf_classifier\u001b[38;5;241m.\u001b[39mset_params(n_estimators\u001b[38;5;241m=\u001b[39mi)  \u001b[38;5;66;03m# Incrementally add trees\u001b[39;00m\n\u001b[1;32m---> 11\u001b[0m     \u001b[43mrf_classifier\u001b[49m\u001b[38;5;241;43m.\u001b[39;49m\u001b[43mfit\u001b[49m\u001b[43m(\u001b[49m\u001b[43mtrain_common\u001b[49m\u001b[43m[\u001b[49m\u001b[43mcols\u001b[49m\u001b[43m]\u001b[49m\u001b[43m,\u001b[49m\u001b[43m \u001b[49m\u001b[43mtrain_common\u001b[49m\u001b[43m[\u001b[49m\u001b[38;5;124;43m\"\u001b[39;49m\u001b[38;5;124;43mSleep_Stage\u001b[39;49m\u001b[38;5;124;43m\"\u001b[39;49m\u001b[43m]\u001b[49m\u001b[43m)\u001b[49m      \u001b[38;5;66;03m# Train the model\u001b[39;00m\n\u001b[0;32m     12\u001b[0m     pbar\u001b[38;5;241m.\u001b[39mupdate(\u001b[38;5;241m1\u001b[39m)  \n\u001b[0;32m     13\u001b[0m     y_pred \u001b[38;5;241m=\u001b[39m (\u001b[38;5;28mlist\u001b[39m(rf_classifier\u001b[38;5;241m.\u001b[39mpredict(validation_common[cols])))\n",
      "File \u001b[1;32mc:\\Users\\alkan\\AppData\\Local\\Programs\\Python\\Python311\\Lib\\site-packages\\sklearn\\base.py:1389\u001b[0m, in \u001b[0;36m_fit_context.<locals>.decorator.<locals>.wrapper\u001b[1;34m(estimator, *args, **kwargs)\u001b[0m\n\u001b[0;32m   1382\u001b[0m     estimator\u001b[38;5;241m.\u001b[39m_validate_params()\n\u001b[0;32m   1384\u001b[0m \u001b[38;5;28;01mwith\u001b[39;00m config_context(\n\u001b[0;32m   1385\u001b[0m     skip_parameter_validation\u001b[38;5;241m=\u001b[39m(\n\u001b[0;32m   1386\u001b[0m         prefer_skip_nested_validation \u001b[38;5;129;01mor\u001b[39;00m global_skip_validation\n\u001b[0;32m   1387\u001b[0m     )\n\u001b[0;32m   1388\u001b[0m ):\n\u001b[1;32m-> 1389\u001b[0m     \u001b[38;5;28;01mreturn\u001b[39;00m \u001b[43mfit_method\u001b[49m\u001b[43m(\u001b[49m\u001b[43mestimator\u001b[49m\u001b[43m,\u001b[49m\u001b[43m \u001b[49m\u001b[38;5;241;43m*\u001b[39;49m\u001b[43margs\u001b[49m\u001b[43m,\u001b[49m\u001b[43m \u001b[49m\u001b[38;5;241;43m*\u001b[39;49m\u001b[38;5;241;43m*\u001b[39;49m\u001b[43mkwargs\u001b[49m\u001b[43m)\u001b[49m\n",
      "File \u001b[1;32mc:\\Users\\alkan\\AppData\\Local\\Programs\\Python\\Python311\\Lib\\site-packages\\sklearn\\ensemble\\_forest.py:419\u001b[0m, in \u001b[0;36mBaseForest.fit\u001b[1;34m(self, X, y, sample_weight)\u001b[0m\n\u001b[0;32m    412\u001b[0m         \u001b[38;5;28;01mraise\u001b[39;00m \u001b[38;5;167;01mValueError\u001b[39;00m(\n\u001b[0;32m    413\u001b[0m             \u001b[38;5;124m\"\u001b[39m\u001b[38;5;124mSum of y is not strictly positive which \u001b[39m\u001b[38;5;124m\"\u001b[39m\n\u001b[0;32m    414\u001b[0m             \u001b[38;5;124m\"\u001b[39m\u001b[38;5;124mis necessary for Poisson regression.\u001b[39m\u001b[38;5;124m\"\u001b[39m\n\u001b[0;32m    415\u001b[0m         )\n\u001b[0;32m    417\u001b[0m \u001b[38;5;28mself\u001b[39m\u001b[38;5;241m.\u001b[39m_n_samples, \u001b[38;5;28mself\u001b[39m\u001b[38;5;241m.\u001b[39mn_outputs_ \u001b[38;5;241m=\u001b[39m y\u001b[38;5;241m.\u001b[39mshape\n\u001b[1;32m--> 419\u001b[0m y, expanded_class_weight \u001b[38;5;241m=\u001b[39m \u001b[38;5;28;43mself\u001b[39;49m\u001b[38;5;241;43m.\u001b[39;49m\u001b[43m_validate_y_class_weight\u001b[49m\u001b[43m(\u001b[49m\u001b[43my\u001b[49m\u001b[43m)\u001b[49m\n\u001b[0;32m    421\u001b[0m \u001b[38;5;28;01mif\u001b[39;00m \u001b[38;5;28mgetattr\u001b[39m(y, \u001b[38;5;124m\"\u001b[39m\u001b[38;5;124mdtype\u001b[39m\u001b[38;5;124m\"\u001b[39m, \u001b[38;5;28;01mNone\u001b[39;00m) \u001b[38;5;241m!=\u001b[39m DOUBLE \u001b[38;5;129;01mor\u001b[39;00m \u001b[38;5;129;01mnot\u001b[39;00m y\u001b[38;5;241m.\u001b[39mflags\u001b[38;5;241m.\u001b[39mcontiguous:\n\u001b[0;32m    422\u001b[0m     y \u001b[38;5;241m=\u001b[39m np\u001b[38;5;241m.\u001b[39mascontiguousarray(y, dtype\u001b[38;5;241m=\u001b[39mDOUBLE)\n",
      "File \u001b[1;32mc:\\Users\\alkan\\AppData\\Local\\Programs\\Python\\Python311\\Lib\\site-packages\\sklearn\\ensemble\\_forest.py:844\u001b[0m, in \u001b[0;36mForestClassifier._validate_y_class_weight\u001b[1;34m(self, y)\u001b[0m\n\u001b[0;32m    842\u001b[0m y_store_unique_indices \u001b[38;5;241m=\u001b[39m np\u001b[38;5;241m.\u001b[39mzeros(y\u001b[38;5;241m.\u001b[39mshape, dtype\u001b[38;5;241m=\u001b[39m\u001b[38;5;28mint\u001b[39m)\n\u001b[0;32m    843\u001b[0m \u001b[38;5;28;01mfor\u001b[39;00m k \u001b[38;5;129;01min\u001b[39;00m \u001b[38;5;28mrange\u001b[39m(\u001b[38;5;28mself\u001b[39m\u001b[38;5;241m.\u001b[39mn_outputs_):\n\u001b[1;32m--> 844\u001b[0m     classes_k, y_store_unique_indices[:, k] \u001b[38;5;241m=\u001b[39m \u001b[43mnp\u001b[49m\u001b[38;5;241;43m.\u001b[39;49m\u001b[43munique\u001b[49m\u001b[43m(\u001b[49m\n\u001b[0;32m    845\u001b[0m \u001b[43m        \u001b[49m\u001b[43my\u001b[49m\u001b[43m[\u001b[49m\u001b[43m:\u001b[49m\u001b[43m,\u001b[49m\u001b[43m \u001b[49m\u001b[43mk\u001b[49m\u001b[43m]\u001b[49m\u001b[43m,\u001b[49m\u001b[43m \u001b[49m\u001b[43mreturn_inverse\u001b[49m\u001b[38;5;241;43m=\u001b[39;49m\u001b[38;5;28;43;01mTrue\u001b[39;49;00m\n\u001b[0;32m    846\u001b[0m \u001b[43m    \u001b[49m\u001b[43m)\u001b[49m\n\u001b[0;32m    847\u001b[0m     \u001b[38;5;28mself\u001b[39m\u001b[38;5;241m.\u001b[39mclasses_\u001b[38;5;241m.\u001b[39mappend(classes_k)\n\u001b[0;32m    848\u001b[0m     \u001b[38;5;28mself\u001b[39m\u001b[38;5;241m.\u001b[39mn_classes_\u001b[38;5;241m.\u001b[39mappend(classes_k\u001b[38;5;241m.\u001b[39mshape[\u001b[38;5;241m0\u001b[39m])\n",
      "File \u001b[1;32mc:\\Users\\alkan\\AppData\\Local\\Programs\\Python\\Python311\\Lib\\site-packages\\numpy\\lib\\_arraysetops_impl.py:286\u001b[0m, in \u001b[0;36munique\u001b[1;34m(ar, return_index, return_inverse, return_counts, axis, equal_nan)\u001b[0m\n\u001b[0;32m    284\u001b[0m ar \u001b[38;5;241m=\u001b[39m np\u001b[38;5;241m.\u001b[39masanyarray(ar)\n\u001b[0;32m    285\u001b[0m \u001b[38;5;28;01mif\u001b[39;00m axis \u001b[38;5;129;01mis\u001b[39;00m \u001b[38;5;28;01mNone\u001b[39;00m:\n\u001b[1;32m--> 286\u001b[0m     ret \u001b[38;5;241m=\u001b[39m \u001b[43m_unique1d\u001b[49m\u001b[43m(\u001b[49m\u001b[43mar\u001b[49m\u001b[43m,\u001b[49m\u001b[43m \u001b[49m\u001b[43mreturn_index\u001b[49m\u001b[43m,\u001b[49m\u001b[43m \u001b[49m\u001b[43mreturn_inverse\u001b[49m\u001b[43m,\u001b[49m\u001b[43m \u001b[49m\u001b[43mreturn_counts\u001b[49m\u001b[43m,\u001b[49m\n\u001b[0;32m    287\u001b[0m \u001b[43m                    \u001b[49m\u001b[43mequal_nan\u001b[49m\u001b[38;5;241;43m=\u001b[39;49m\u001b[43mequal_nan\u001b[49m\u001b[43m,\u001b[49m\u001b[43m \u001b[49m\u001b[43minverse_shape\u001b[49m\u001b[38;5;241;43m=\u001b[39;49m\u001b[43mar\u001b[49m\u001b[38;5;241;43m.\u001b[39;49m\u001b[43mshape\u001b[49m\u001b[43m,\u001b[49m\u001b[43m \u001b[49m\u001b[43maxis\u001b[49m\u001b[38;5;241;43m=\u001b[39;49m\u001b[38;5;28;43;01mNone\u001b[39;49;00m\u001b[43m)\u001b[49m\n\u001b[0;32m    288\u001b[0m     \u001b[38;5;28;01mreturn\u001b[39;00m _unpack_tuple(ret)\n\u001b[0;32m    290\u001b[0m \u001b[38;5;66;03m# axis was specified and not None\u001b[39;00m\n",
      "File \u001b[1;32mc:\\Users\\alkan\\AppData\\Local\\Programs\\Python\\Python311\\Lib\\site-packages\\numpy\\lib\\_arraysetops_impl.py:375\u001b[0m, in \u001b[0;36m_unique1d\u001b[1;34m(ar, return_index, return_inverse, return_counts, equal_nan, inverse_shape, axis)\u001b[0m\n\u001b[0;32m    373\u001b[0m     ret \u001b[38;5;241m+\u001b[39m\u001b[38;5;241m=\u001b[39m (perm[mask],)\n\u001b[0;32m    374\u001b[0m \u001b[38;5;28;01mif\u001b[39;00m return_inverse:\n\u001b[1;32m--> 375\u001b[0m     imask \u001b[38;5;241m=\u001b[39m \u001b[43mnp\u001b[49m\u001b[38;5;241;43m.\u001b[39;49m\u001b[43mcumsum\u001b[49m\u001b[43m(\u001b[49m\u001b[43mmask\u001b[49m\u001b[43m)\u001b[49m \u001b[38;5;241m-\u001b[39m \u001b[38;5;241m1\u001b[39m\n\u001b[0;32m    376\u001b[0m     inv_idx \u001b[38;5;241m=\u001b[39m np\u001b[38;5;241m.\u001b[39mempty(mask\u001b[38;5;241m.\u001b[39mshape, dtype\u001b[38;5;241m=\u001b[39mnp\u001b[38;5;241m.\u001b[39mintp)\n\u001b[0;32m    377\u001b[0m     inv_idx[perm] \u001b[38;5;241m=\u001b[39m imask\n",
      "File \u001b[1;32mc:\\Users\\alkan\\AppData\\Local\\Programs\\Python\\Python311\\Lib\\site-packages\\numpy\\_core\\fromnumeric.py:2875\u001b[0m, in \u001b[0;36m_cumsum_dispatcher\u001b[1;34m(a, axis, dtype, out)\u001b[0m\n\u001b[0;32m   2793\u001b[0m \u001b[38;5;250m    \u001b[39m\u001b[38;5;124;03m\"\"\"\u001b[39;00m\n\u001b[0;32m   2794\u001b[0m \u001b[38;5;124;03m    Return the cumulative sum of the elements along a given axis.\u001b[39;00m\n\u001b[0;32m   2795\u001b[0m \n\u001b[1;32m   (...)\u001b[0m\n\u001b[0;32m   2870\u001b[0m \n\u001b[0;32m   2871\u001b[0m \u001b[38;5;124;03m    \"\"\"\u001b[39;00m\n\u001b[0;32m   2872\u001b[0m     \u001b[38;5;28;01mreturn\u001b[39;00m _cumulative_func(x, um\u001b[38;5;241m.\u001b[39madd, axis, dtype, out, include_initial)\n\u001b[1;32m-> 2875\u001b[0m \u001b[38;5;28;01mdef\u001b[39;00m \u001b[38;5;21m_cumsum_dispatcher\u001b[39m(a, axis\u001b[38;5;241m=\u001b[39m\u001b[38;5;28;01mNone\u001b[39;00m, dtype\u001b[38;5;241m=\u001b[39m\u001b[38;5;28;01mNone\u001b[39;00m, out\u001b[38;5;241m=\u001b[39m\u001b[38;5;28;01mNone\u001b[39;00m):\n\u001b[0;32m   2876\u001b[0m     \u001b[38;5;28;01mreturn\u001b[39;00m (a, out)\n\u001b[0;32m   2879\u001b[0m \u001b[38;5;129m@array_function_dispatch\u001b[39m(_cumsum_dispatcher)\n\u001b[0;32m   2880\u001b[0m \u001b[38;5;28;01mdef\u001b[39;00m \u001b[38;5;21mcumsum\u001b[39m(a, axis\u001b[38;5;241m=\u001b[39m\u001b[38;5;28;01mNone\u001b[39;00m, dtype\u001b[38;5;241m=\u001b[39m\u001b[38;5;28;01mNone\u001b[39;00m, out\u001b[38;5;241m=\u001b[39m\u001b[38;5;28;01mNone\u001b[39;00m):\n",
      "\u001b[1;31mKeyboardInterrupt\u001b[0m: "
     ]
    }
   ],
   "source": [
    "total_estimators = 2\n",
    "max_depth=30\n",
    "rf_classifier = RandomForestClassifier(n_estimators=total_estimators,criterion='gini',max_features='sqrt', warm_start=True, random_state=30, max_depth = max_depth,bootstrap=True,class_weight='balanced',n_jobs=-1,verbose=1)\n",
    "cols = combined_df.columns.to_list()\n",
    "cols.remove(\"Sleep_Stage\")\n",
    "cms = []\n",
    "# Track progress\n",
    "with tqdm(total=total_estimators, desc=\"Training Progress\") as pbar:\n",
    "    for i in range(1, total_estimators + 1):\n",
    "        rf_classifier.set_params(n_estimators=i)  # Incrementally add trees\n",
    "        rf_classifier.fit(train_common[cols], train_common[\"Sleep_Stage\"])      # Train the model\n",
    "        pbar.update(1)  \n",
    "        y_pred = (list(rf_classifier.predict(validation_common[cols])))\n",
    "        accuracy = accuracy_score(validation_common[\"Sleep_Stage\"], y_pred)\n",
    "        cm = confusion_matrix(validation_common[\"Sleep_Stage\"], y_pred)\n",
    "        print(accuracy,cm)\n",
    "        print(precision_score(validation_common[\"Sleep_Stage\"], y_pred,average=\"macro\"))\n",
    "        print(recall_score(validation_common[\"Sleep_Stage\"], y_pred,average=\"macro\"))\n",
    "\n",
    "        print(f1_score(validation_common[\"Sleep_Stage\"], y_pred,average=\"macro\"))\n",
    "\n",
    "        cms.append(cm)"
   ]
  },
  {
   "cell_type": "code",
   "execution_count": 68,
   "metadata": {},
   "outputs": [
    {
     "name": "stdout",
     "output_type": "stream",
     "text": [
      "<class 'pandas.core.frame.DataFrame'>\n"
     ]
    }
   ],
   "source": [
    "print(type(validation_common[cols]))"
   ]
  },
  {
   "cell_type": "code",
   "execution_count": 92,
   "metadata": {},
   "outputs": [
    {
     "data": {
      "text/plain": [
       "['BVP',\n",
       " 'ACC_X',\n",
       " 'ACC_Y',\n",
       " 'ACC_Z',\n",
       " 'TEMP',\n",
       " 'EDA',\n",
       " 'HR',\n",
       " 'IBI',\n",
       " 'IBI_Moving_Average_640',\n",
       " 'IBI_Moving_STD_640',\n",
       " 'Abnormal_IBI_Moving_3',\n",
       " 'Abnormal_IBI_Moving_4',\n",
       " 'ACC',\n",
       " 'HR_Divided_Mean',\n",
       " 'HR_Divided_Median',\n",
       " 'Abnormal_IBI_Moving_4_Mean_Scaled']"
      ]
     },
     "execution_count": 92,
     "metadata": {},
     "output_type": "execute_result"
    }
   ],
   "source": [
    "columns"
   ]
  },
  {
   "cell_type": "code",
   "execution_count": 95,
   "metadata": {},
   "outputs": [
    {
     "data": {
      "text/plain": [
       "0"
      ]
     },
     "execution_count": 95,
     "metadata": {},
     "output_type": "execute_result"
    }
   ],
   "source": [
    "a = 0\n",
    "for i in test_common.index:\n",
    "    if i in train_common.index:\n",
    "        a +=1 \n",
    "a    "
   ]
  },
  {
   "cell_type": "code",
   "execution_count": 91,
   "metadata": {},
   "outputs": [
    {
     "name": "stderr",
     "output_type": "stream",
     "text": [
      "[Parallel(n_jobs=2)]: Using backend ThreadingBackend with 2 concurrent workers.\n",
      "[Parallel(n_jobs=2)]: Done   2 out of   2 | elapsed:    0.2s finished\n"
     ]
    },
    {
     "name": "stdout",
     "output_type": "stream",
     "text": [
      "0.9662419645288214 [[ 98709   2644      1    193   1270]\n",
      " [  6620 408706    818    222    918]\n",
      " [    20   1666  23160      2     21]\n",
      " [   657   1153      6  84351    204]\n",
      " [  5334   6007     69   1063 211923]]\n"
     ]
    }
   ],
   "source": [
    "y_pred = (list(rf_classifier.predict(test_common[columns])))\n",
    "accuracy = accuracy_score(test_common[\"Sleep_Stage\"], y_pred)\n",
    "cm = confusion_matrix(test_common[\"Sleep_Stage\"], y_pred)\n",
    "print(accuracy,cm)"
   ]
  },
  {
   "cell_type": "code",
   "execution_count": 79,
   "metadata": {},
   "outputs": [
    {
     "name": "stderr",
     "output_type": "stream",
     "text": [
      "[Parallel(n_jobs=2)]: Using backend ThreadingBackend with 2 concurrent workers.\n",
      "[Parallel(n_jobs=2)]: Done   2 out of   2 | elapsed:    0.2s finished\n"
     ]
    },
    {
     "name": "stdout",
     "output_type": "stream",
     "text": [
      "0.9720825114287585 [[ 99716   2108      4    123    865]\n",
      " [  7193 408535    684    116    755]\n",
      " [    20   1572  23255      1     21]\n",
      " [   468    785      1  85010    108]\n",
      " [  4296   4037     42    691 215330]]\n"
     ]
    }
   ],
   "source": [
    "y_pred = (list(rf_classifier.predict(validation_common[cols])))\n",
    "accuracy = accuracy_score(validation_common[\"Sleep_Stage\"], y_pred)\n",
    "cm = confusion_matrix(validation_common[\"Sleep_Stage\"], y_pred)\n",
    "print(accuracy,cm)"
   ]
  },
  {
   "cell_type": "code",
   "execution_count": null,
   "metadata": {},
   "outputs": [],
   "source": []
  },
  {
   "cell_type": "code",
   "execution_count": null,
   "metadata": {},
   "outputs": [],
   "source": [
    "accs = []\n",
    "cms = []\n",
    "for i,key in tqdm(enumerate(list(train_set.keys())[40:])):\n",
    "    if i in test_indexes or i in validation_indexes:\n",
    "        continue\n",
    "    df = train_set[key]\n",
    "    cols = df.columns.to_list()\n",
    "    cols.remove(\"Sleep_Stage\")\n",
    "    rf_classifier.fit(df.loc[:,cols], df[\"Sleep_Stage\"]) #Xtrain and Ytrain\n",
    "\n",
    "    y_pred = []\n",
    "    y_test = []\n",
    "    for i in validation_indexes:\n",
    "        index = list(train_set.keys())[int(i)]\n",
    "        df_pred = train_set[index]\n",
    "        y_pred.extend(list(rf_classifier.predict(df_pred[cols])))\n",
    "        y_test.extend(list(df_pred[\"Sleep_Stage\"]))\n",
    "\n",
    "    accuracy = accuracy_score(y_test, y_pred)\n",
    "    cm = confusion_matrix(y_test, y_pred)\n",
    "    print(accuracy)\n",
    "    print(cm.ravel())\n",
    "    accs.append(accuracy)\n",
    "    cms.append(cm)\n"
   ]
  },
  {
   "cell_type": "code",
   "execution_count": 77,
   "metadata": {},
   "outputs": [
    {
     "data": {
      "text/plain": [
       "(5704907, 53)"
      ]
     },
     "execution_count": 77,
     "metadata": {},
     "output_type": "execute_result"
    }
   ],
   "source": [
    "combined_df.shape"
   ]
  },
  {
   "cell_type": "code",
   "execution_count": null,
   "metadata": {},
   "outputs": [],
   "source": []
  },
  {
   "cell_type": "code",
   "execution_count": 78,
   "metadata": {},
   "outputs": [
    {
     "name": "stderr",
     "output_type": "stream",
     "text": [
      "Training Progress: 100%|██████████| 100/100 [32:35<00:00, 19.55s/it]\n"
     ]
    }
   ],
   "source": [
    "total_estimators = 100\n",
    "max_depth=48\n",
    "rf_regressor = RandomForestClassifier(n_estimators=total_estimators, warm_start=True, random_state=30, max_depth = max_depth)\n",
    "cols = combined_df.columns.to_list()\n",
    "cols.remove(\"Sleep_Stage\")\n",
    "# Track progress\n",
    "with tqdm(total=total_estimators, desc=\"Training Progress\") as pbar:\n",
    "    for i in range(1, total_estimators + 1):\n",
    "        rf_regressor.set_params(n_estimators=i)  # Incrementally add trees\n",
    "        rf_regressor.fit(combined_df[cols], combined_df[\"Sleep_Stage\"])      # Train the model\n",
    "        pbar.update(1)\n",
    "        print(accuracy)\n",
    "        print(cm)"
   ]
  },
  {
   "cell_type": "code",
   "execution_count": 81,
   "metadata": {},
   "outputs": [
    {
     "name": "stdout",
     "output_type": "stream",
     "text": [
      "0.22711721534690646\n",
      "[[   300   7504      0      0  75716]\n",
      " [  5613  43948      0      0 563016]\n",
      " [  2231   2208      0      0  52105]\n",
      " [   659  13881      0      0 126773]\n",
      " [  2715  22286      0      0 212791]]\n"
     ]
    }
   ],
   "source": [
    "y_pred = []\n",
    "y_test = []\n",
    "for i in validation_indexes:\n",
    "    index = list(train_set.keys())[int(i)]\n",
    "    df_pred = train_set[index]\n",
    "    y_pred.extend(list(rf_regressor.predict(df_pred[cols])))\n",
    "    y_test.extend(list(df_pred[\"Sleep_Stage\"]))\n",
    "\n",
    "accuracy = accuracy_score(y_test, y_pred)\n",
    "cm = confusion_matrix(y_test, y_pred)\n",
    "print(accuracy)\n",
    "print(cm)"
   ]
  },
  {
   "cell_type": "code",
   "execution_count": 82,
   "metadata": {},
   "outputs": [
    {
     "data": {
      "text/plain": [
       "(array(['N1', 'N2', 'W'], dtype='<U2'), array([  11518,   89827, 1030401]))"
      ]
     },
     "execution_count": 82,
     "metadata": {},
     "output_type": "execute_result"
    }
   ],
   "source": [
    "np.unique(np.array(y_pred),return_counts=True)"
   ]
  },
  {
   "cell_type": "code",
   "execution_count": null,
   "metadata": {},
   "outputs": [],
   "source": [
    "accs = []\n",
    "cms = []\n",
    "for i,key in tqdm(enumerate(list(train_set.keys()))):\n",
    "    if i in test_indexes or i in validation_indexes:\n",
    "        continue\n",
    "    df = train_set[key]\n",
    "    pd.concat\n",
    "    cols = df.columns.to_list()\n",
    "    cols.remove(\"Sleep_Stage\")\n",
    "    rf_classifier.fit(df.loc[:,columns], df[\"Sleep_Stage\"]) #Xtrain and Ytrain\n",
    "\n",
    "    y_pred = []\n",
    "    y_test = []\n",
    "    for i in validation_indexes:\n",
    "        index = list(train_set.keys())[int(i)]\n",
    "        df_pred = train_set[index]\n",
    "        y_pred.extend(list(rf_classifier.predict(df_pred[columns])))\n",
    "        y_test.extend(list(df_pred[\"Sleep_Stage\"]))\n",
    "\n",
    "    accuracy = accuracy_score(y_test, y_pred)\n",
    "    cm = confusion_matrix(y_test, y_pred)\n",
    "    print(accuracy)\n",
    "    print(cm.ravel())\n",
    "    accs.append(accuracy)\n",
    "    cms.append(cm)\n"
   ]
  },
  {
   "cell_type": "code",
   "execution_count": null,
   "metadata": {},
   "outputs": [],
   "source": []
  },
  {
   "cell_type": "code",
   "execution_count": null,
   "metadata": {},
   "outputs": [
    {
     "data": {
      "text/plain": [
       "(array(['N1', 'N2', 'R', 'W'], dtype='<U2'),\n",
       " array([ 56874, 172526,    186, 902160]))"
      ]
     },
     "execution_count": 66,
     "metadata": {},
     "output_type": "execute_result"
    }
   ],
   "source": [
    "np.unique(np.array(y_pred),return_counts=True)"
   ]
  },
  {
   "cell_type": "code",
   "execution_count": 68,
   "metadata": {},
   "outputs": [
    {
     "data": {
      "text/plain": [
       "(array(['N1', 'N2', 'N3', 'R', 'W'], dtype='<U2'),\n",
       " array([ 83520, 612577,  56544, 141313, 237792]))"
      ]
     },
     "execution_count": 68,
     "metadata": {},
     "output_type": "execute_result"
    }
   ],
   "source": [
    "np.unique(np.array(y_test),return_counts=True)"
   ]
  },
  {
   "cell_type": "code",
   "execution_count": 67,
   "metadata": {},
   "outputs": [
    {
     "data": {
      "text/plain": [
       "0.22762527987728695"
      ]
     },
     "execution_count": 67,
     "metadata": {},
     "output_type": "execute_result"
    }
   ],
   "source": [
    "accuracy_score(y_test, y_pred)"
   ]
  },
  {
   "cell_type": "code",
   "execution_count": null,
   "metadata": {},
   "outputs": [],
   "source": [
    "accs = []\n",
    "cms = []\n",
    "for i,key in tqdm(enumerate(list(train_set.keys()))):\n",
    "    if i in test_indexes or i in validation_indexes:\n",
    "        continue\n",
    "    df = train_set[key]\n",
    "    cols = df.columns.to_list()\n",
    "    cols.remove(\"Sleep_Stage\")\n",
    "    rf_classifier.fit(df.loc[:,columns], df[\"Sleep_Stage\"]) #Xtrain and Ytrain\n",
    "\n",
    "    y_pred = []\n",
    "    y_test = []\n",
    "    for i in validation_indexes:\n",
    "        index = list(train_set.keys())[int(i)]\n",
    "        df_pred = train_set[index]\n",
    "        y_pred.extend(list(rf_classifier.predict(df_pred[columns])))\n",
    "        y_test.extend(list(df_pred[\"Sleep_Stage\"]))\n",
    "\n",
    "    accuracy = accuracy_score(y_test, y_pred)\n",
    "    cm = confusion_matrix(y_test, y_pred)\n",
    "    print(accuracy)\n",
    "    print(cm.ravel())\n",
    "    accs.append(accuracy)\n",
    "    cms.append(cm)\n"
   ]
  }
 ],
 "metadata": {
  "kernelspec": {
   "display_name": "Python 3",
   "language": "python",
   "name": "python3"
  },
  "language_info": {
   "codemirror_mode": {
    "name": "ipython",
    "version": 3
   },
   "file_extension": ".py",
   "mimetype": "text/x-python",
   "name": "python",
   "nbconvert_exporter": "python",
   "pygments_lexer": "ipython3",
   "version": "3.11.0"
  }
 },
 "nbformat": 4,
 "nbformat_minor": 2
}
